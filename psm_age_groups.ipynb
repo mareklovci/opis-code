{
  "cells":[
    {
      "cell_type":"markdown",
      "source":[
        "# KIV\/OPIS Oborový projekt IS"
      ],
      "metadata":{
        
      }
    },
    {
      "cell_type":"markdown",
      "source":[
        "## Příprava dat\n",
        "\n",
        "Načteme soubor s daty z klinické studie srdečních nemocí."
      ],
      "metadata":{
        
      }
    },
    {
      "cell_type":"code",
      "source":[
        "import pandas as pd\n",
        "import time\n",
        "\n",
        "t = time.time()\n",
        "df = pd.read_excel('fmpl-sits-dataset.xlsx', sheet_name='all', header=8, index_col=None, na_values=['NA'], usecols='B:C,E:BY')\n",
        "elapsed = time.time() - t\n",
        "\n",
        "print('Excel load time: {:.2f} seconds'.format(elapsed))\n",
        "print('Number of rows: {}'.format(df.shape[0]))"
      ],
      "execution_count":1,
      "outputs":[
        {
          "name":"stdout",
          "text":[
            "Excel load time: 34.67 seconds\n",
            "Number of rows: 2890\n"
          ],
          "output_type":"stream"
        }
      ],
      "metadata":{
        
      }
    },
    {
      "cell_type":"markdown",
      "source":[
        "Do proměnných uložím názvy sloupců, se kterými budu pracovat.\n",
        "Jedná se o názvy sloupců z datasetu, ale i o nové názvy sloupců, které budu teprve vytvářet."
      ],
      "metadata":{
        
      }
    },
    {
      "cell_type":"code",
      "source":[
        "# General\n",
        "AGE = 'age'\n",
        "SEX = 'sex'\n",
        "BMI = 'BMI'\n",
        "HEIGHT = 'heightvalue'\n",
        "WEIGHT = 'weight'\n",
        "NIHSS = 'NIHSS baseline'\n",
        "NIHSS_DISCHARGE = 'NIHSS-diff-discharge'\n",
        "TROMBECTOMY = 'thrombectomyDone'\n",
        "TROMBOLYSIS = 'thrombolysisIV'\n",
        "TREATMENT = 'treatment'\n",
        "\n",
        "GEN_LIST = [AGE, SEX, HEIGHT, WEIGHT, NIHSS_DISCHARGE]\n",
        "\n",
        "# Diagnosis\n",
        "BOOL_VTA = 'involvedVascularTerritorryArterior'\n",
        "BOOL_VTL = 'involvedVascularTerritorryLeft'\n",
        "BOOL_VTP = 'involvedVascularTerritorryPosterior'\n",
        "BOOL_VTR = 'involvedVascularTerritorryRight'\n",
        "BOOL_VTU = 'involvedVascularTerritorryUnknown'\n",
        "BOOL_AFB = 'atrialFibrilation'\n",
        "BOOL_CHF = 'congestiveHeartFailure'\n",
        "BOOL_DIA = 'diabetes'\n",
        "BOOL_HYL = 'hyperlipidemia'\n",
        "BOOL_HYT = 'hypertension'\n",
        "BOOL_SEM = 'previousStrokeEarlierThan3M'\n",
        "BOOL_SWM = 'previousStrokeWithin3M'\n",
        "BOOL_PTA = 'previousTIAOrAmaurosis'\n",
        "BOOL_SC = 'smokerCurrent'\n",
        "BOOL_SP = 'smokerPrevious'\n",
        "BOOL_VD = 'vascularDisease'\n",
        "\n",
        "DIAG_LIST = [\n",
        "    BOOL_VTA, BOOL_VTL, BOOL_VTP, BOOL_VTR, #BOOL_VTU,\n",
        "    BOOL_AFB, BOOL_CHF, BOOL_DIA, BOOL_HYL, BOOL_HYT,\n",
        "    BOOL_SEM, BOOL_SWM, BOOL_PTA, BOOL_SC, BOOL_SP, BOOL_VD\n",
        "    ]"
      ],
      "execution_count":22,
      "outputs":[
        
      ],
      "metadata":{
        
      }
    },
    {
      "cell_type":"code",
      "source":[
        "df.sex = df.sex.replace('M', 1)\n",
        "df.sex = df.sex.replace('F', 0)\n",
        "\n",
        "# Fill NaN values for treatment columns (supposedly no treatment provided)\n",
        "df[TROMBECTOMY] = df[TROMBECTOMY].fillna(0)\n",
        "df[TROMBOLYSIS] = df[TROMBOLYSIS].fillna(0)"
      ],
      "execution_count":23,
      "outputs":[
        
      ],
      "metadata":{
        
      }
    },
    {
      "cell_type":"code",
      "source":[
        "# Initialize Treatment Groups\n",
        "trombectomyGroup = df.loc[(df[TROMBECTOMY] == True) & (df[TROMBOLYSIS] == False)]\n",
        "print('Trombectomy rows: {}'.format(trombectomyGroup.shape[0]))\n",
        "\n",
        "trombolysisGroup = df.loc[(df[TROMBECTOMY] == False) & (df[TROMBOLYSIS] == True)]\n",
        "print('Trombolysis rows: {}'.format(trombolysisGroup.shape[0]))\n",
        "\n",
        "bridgeGroup = df.loc[(df[TROMBECTOMY] == True) & (df[TROMBOLYSIS] == True)]\n",
        "print('Bridge rows: {}'.format(bridgeGroup.shape[0]))\n",
        "\n",
        "noTreatmentGroup = df.loc[(df[TROMBECTOMY] == False) & (df[TROMBOLYSIS] == False)]\n",
        "print('No treatment rows: {}'.format(noTreatmentGroup.shape[0]))"
      ],
      "execution_count":24,
      "outputs":[
        {
          "name":"stdout",
          "text":[
            "Trombectomy rows: 66\n",
            "Trombolysis rows: 1251\n",
            "Bridge rows: 261\n",
            "No treatment rows: 0\n"
          ],
          "output_type":"stream"
        }
      ],
      "metadata":{
        
      }
    },
    {
      "cell_type":"markdown",
      "source":[
        "Metoda pro doplnění chybějících hodnot ve sloupci náhodnými normálním rozdělením se střední hodnotou a variancí ze sloupce."
      ],
      "metadata":{
        
      }
    },
    {
      "cell_type":"code",
      "source":[
        "def fill_nan_with_unifrand(data_frame):\n",
        "    a = data_frame.values\n",
        "    m = np.isnan(a) # mask of NaNs\n",
        "    mu, sigma = data_frame.mean(), data_frame.std()\n",
        "    a[m] = np.random.normal(mu, sigma, size=m.sum())\n",
        "    return df"
      ],
      "execution_count":25,
      "outputs":[
        
      ],
      "metadata":{
        
      }
    },
    {
      "cell_type":"code",
      "source":[
        "import numpy as np\n",
        "\n",
        "# Merge Data Frames back into 'df' variable\n",
        "# df = pd.concat([trombectomyGroup, trombolysisGroup, bridgeGroup, noTreatmentGroup])\n",
        "df = pd.concat([trombolysisGroup, trombectomyGroup, bridgeGroup])\n",
        "\n",
        "# df['bridge'] = np.where(df.thrombectomyDone == 1 & df.thrombolysisIV == 1, 1, 0)\n",
        "\n",
        "new_df = df.filter(GEN_LIST + DIAG_LIST, axis=1)\n",
        "\n",
        "new_df[NIHSS_DISCHARGE] = df[NIHSS_DISCHARGE].fillna(0)\n",
        "# new_df[NIHSS_DISCHARGE] = new_df[NIHSS] + new_df[NIHSS_DISCHARGE]\n",
        "\n",
        "# Initialize TREATMENT column\n",
        "new_df[TREATMENT] = np.where(new_df.age >= 65, 1, 0)\n",
        "\n",
        "print('Number of rows: {}'.format(new_df.shape[0]))\n",
        "\n",
        "new_df[HEIGHT] = fill_nan_with_unifrand(new_df[HEIGHT])"
      ],
      "execution_count":26,
      "outputs":[
        {
          "name":"stdout",
          "text":[
            "Number of rows: 1578\n"
          ],
          "output_type":"stream"
        }
      ],
      "metadata":{
        
      }
    },
    {
      "cell_type":"markdown",
      "source":[
        "## Propensity Score Matching\n",
        "\n",
        "### U pacientů ve věku do 65 let provedení léčebných postupů vede ke snížení NIHSS většímu než u pacientů nad 65 let\n",
        "\n",
        "$H_0$: U pacientů ve věku do 65 let provedení léčebných postupů (Trombectomie, Trombolýza, Bridge) **NEVEDE** ke snížení NIHSS ve srovnání s pacienty nad 65 let. \n",
        "\n",
        "$H_A$: U pacientů ve věku do 65 let provedení léčebných postupů **VEDE** ke snížení NIHSS sledovaných pacientů ve srovnání s pacienty nad 65 let."
      ],
      "metadata":{
        
      }
    },
    {
      "cell_type":"code",
      "source":[
        "new_df.fillna(0, inplace=True)\n",
        "new_df"
      ],
      "execution_count":27,
      "outputs":[
        {
          "data":{
            "text\/html":[
              "<div>\n",
              "<style scoped>\n",
              "    .dataframe tbody tr th:only-of-type {\n",
              "        vertical-align: middle;\n",
              "    }\n",
              "\n",
              "    .dataframe tbody tr th {\n",
              "        vertical-align: top;\n",
              "    }\n",
              "\n",
              "    .dataframe thead th {\n",
              "        text-align: right;\n",
              "    }\n",
              "<\/style>\n",
              "<table border=\"1\" class=\"dataframe\">\n",
              "  <thead>\n",
              "    <tr style=\"text-align: right;\">\n",
              "      <th><\/th>\n",
              "      <th>age<\/th>\n",
              "      <th>sex<\/th>\n",
              "      <th>heightvalue<\/th>\n",
              "      <th>weight<\/th>\n",
              "      <th>NIHSS-diff-discharge<\/th>\n",
              "      <th>involvedVascularTerritorryArterior<\/th>\n",
              "      <th>involvedVascularTerritorryLeft<\/th>\n",
              "      <th>involvedVascularTerritorryPosterior<\/th>\n",
              "      <th>involvedVascularTerritorryRight<\/th>\n",
              "      <th>atrialFibrilation<\/th>\n",
              "      <th>...<\/th>\n",
              "      <th>diabetes<\/th>\n",
              "      <th>hyperlipidemia<\/th>\n",
              "      <th>hypertension<\/th>\n",
              "      <th>previousStrokeEarlierThan3M<\/th>\n",
              "      <th>previousStrokeWithin3M<\/th>\n",
              "      <th>previousTIAOrAmaurosis<\/th>\n",
              "      <th>smokerCurrent<\/th>\n",
              "      <th>smokerPrevious<\/th>\n",
              "      <th>vascularDisease<\/th>\n",
              "      <th>treatment<\/th>\n",
              "    <\/tr>\n",
              "  <\/thead>\n",
              "  <tbody>\n",
              "    <tr>\n",
              "      <th>1<\/th>\n",
              "      <td>57.0<\/td>\n",
              "      <td>0.0<\/td>\n",
              "      <td>1.0<\/td>\n",
              "      <td>89.0<\/td>\n",
              "      <td>-4.0<\/td>\n",
              "      <td>1.0<\/td>\n",
              "      <td>0.0<\/td>\n",
              "      <td>0.0<\/td>\n",
              "      <td>1.0<\/td>\n",
              "      <td>0.0<\/td>\n",
              "      <td>...<\/td>\n",
              "      <td>0.0<\/td>\n",
              "      <td>0.0<\/td>\n",
              "      <td>0.0<\/td>\n",
              "      <td>0.0<\/td>\n",
              "      <td>0.0<\/td>\n",
              "      <td>0.0<\/td>\n",
              "      <td>0.0<\/td>\n",
              "      <td>0.0<\/td>\n",
              "      <td>0.0<\/td>\n",
              "      <td>0<\/td>\n",
              "    <\/tr>\n",
              "    <tr>\n",
              "      <th>2<\/th>\n",
              "      <td>72.0<\/td>\n",
              "      <td>1.0<\/td>\n",
              "      <td>0.0<\/td>\n",
              "      <td>77.0<\/td>\n",
              "      <td>-6.0<\/td>\n",
              "      <td>1.0<\/td>\n",
              "      <td>1.0<\/td>\n",
              "      <td>0.0<\/td>\n",
              "      <td>0.0<\/td>\n",
              "      <td>1.0<\/td>\n",
              "      <td>...<\/td>\n",
              "      <td>0.0<\/td>\n",
              "      <td>0.0<\/td>\n",
              "      <td>1.0<\/td>\n",
              "      <td>0.0<\/td>\n",
              "      <td>0.0<\/td>\n",
              "      <td>0.0<\/td>\n",
              "      <td>0.0<\/td>\n",
              "      <td>1.0<\/td>\n",
              "      <td>0.0<\/td>\n",
              "      <td>1<\/td>\n",
              "    <\/tr>\n",
              "    <tr>\n",
              "      <th>3<\/th>\n",
              "      <td>86.0<\/td>\n",
              "      <td>0.0<\/td>\n",
              "      <td>0.0<\/td>\n",
              "      <td>55.0<\/td>\n",
              "      <td>0.0<\/td>\n",
              "      <td>1.0<\/td>\n",
              "      <td>1.0<\/td>\n",
              "      <td>0.0<\/td>\n",
              "      <td>0.0<\/td>\n",
              "      <td>1.0<\/td>\n",
              "      <td>...<\/td>\n",
              "      <td>1.0<\/td>\n",
              "      <td>1.0<\/td>\n",
              "      <td>1.0<\/td>\n",
              "      <td>0.0<\/td>\n",
              "      <td>0.0<\/td>\n",
              "      <td>0.0<\/td>\n",
              "      <td>0.0<\/td>\n",
              "      <td>0.0<\/td>\n",
              "      <td>0.0<\/td>\n",
              "      <td>1<\/td>\n",
              "    <\/tr>\n",
              "    <tr>\n",
              "      <th>4<\/th>\n",
              "      <td>63.0<\/td>\n",
              "      <td>0.0<\/td>\n",
              "      <td>0.0<\/td>\n",
              "      <td>70.0<\/td>\n",
              "      <td>0.0<\/td>\n",
              "      <td>0.0<\/td>\n",
              "      <td>0.0<\/td>\n",
              "      <td>0.0<\/td>\n",
              "      <td>0.0<\/td>\n",
              "      <td>0.0<\/td>\n",
              "      <td>...<\/td>\n",
              "      <td>0.0<\/td>\n",
              "      <td>1.0<\/td>\n",
              "      <td>0.0<\/td>\n",
              "      <td>0.0<\/td>\n",
              "      <td>0.0<\/td>\n",
              "      <td>0.0<\/td>\n",
              "      <td>0.0<\/td>\n",
              "      <td>0.0<\/td>\n",
              "      <td>0.0<\/td>\n",
              "      <td>0<\/td>\n",
              "    <\/tr>\n",
              "    <tr>\n",
              "      <th>7<\/th>\n",
              "      <td>40.0<\/td>\n",
              "      <td>1.0<\/td>\n",
              "      <td>0.0<\/td>\n",
              "      <td>80.0<\/td>\n",
              "      <td>0.0<\/td>\n",
              "      <td>0.0<\/td>\n",
              "      <td>0.0<\/td>\n",
              "      <td>0.0<\/td>\n",
              "      <td>0.0<\/td>\n",
              "      <td>0.0<\/td>\n",
              "      <td>...<\/td>\n",
              "      <td>0.0<\/td>\n",
              "      <td>0.0<\/td>\n",
              "      <td>0.0<\/td>\n",
              "      <td>0.0<\/td>\n",
              "      <td>0.0<\/td>\n",
              "      <td>0.0<\/td>\n",
              "      <td>0.0<\/td>\n",
              "      <td>0.0<\/td>\n",
              "      <td>0.0<\/td>\n",
              "      <td>0<\/td>\n",
              "    <\/tr>\n",
              "    <tr>\n",
              "      <th>...<\/th>\n",
              "      <td>...<\/td>\n",
              "      <td>...<\/td>\n",
              "      <td>...<\/td>\n",
              "      <td>...<\/td>\n",
              "      <td>...<\/td>\n",
              "      <td>...<\/td>\n",
              "      <td>...<\/td>\n",
              "      <td>...<\/td>\n",
              "      <td>...<\/td>\n",
              "      <td>...<\/td>\n",
              "      <td>...<\/td>\n",
              "      <td>...<\/td>\n",
              "      <td>...<\/td>\n",
              "      <td>...<\/td>\n",
              "      <td>...<\/td>\n",
              "      <td>...<\/td>\n",
              "      <td>...<\/td>\n",
              "      <td>...<\/td>\n",
              "      <td>...<\/td>\n",
              "      <td>...<\/td>\n",
              "      <td>...<\/td>\n",
              "    <\/tr>\n",
              "    <tr>\n",
              "      <th>2192<\/th>\n",
              "      <td>66.0<\/td>\n",
              "      <td>1.0<\/td>\n",
              "      <td>1.0<\/td>\n",
              "      <td>75.0<\/td>\n",
              "      <td>-8.0<\/td>\n",
              "      <td>1.0<\/td>\n",
              "      <td>0.0<\/td>\n",
              "      <td>0.0<\/td>\n",
              "      <td>1.0<\/td>\n",
              "      <td>1.0<\/td>\n",
              "      <td>...<\/td>\n",
              "      <td>0.0<\/td>\n",
              "      <td>0.0<\/td>\n",
              "      <td>1.0<\/td>\n",
              "      <td>0.0<\/td>\n",
              "      <td>0.0<\/td>\n",
              "      <td>0.0<\/td>\n",
              "      <td>0.0<\/td>\n",
              "      <td>1.0<\/td>\n",
              "      <td>1.0<\/td>\n",
              "      <td>1<\/td>\n",
              "    <\/tr>\n",
              "    <tr>\n",
              "      <th>2194<\/th>\n",
              "      <td>72.0<\/td>\n",
              "      <td>1.0<\/td>\n",
              "      <td>0.0<\/td>\n",
              "      <td>86.0<\/td>\n",
              "      <td>-5.0<\/td>\n",
              "      <td>1.0<\/td>\n",
              "      <td>1.0<\/td>\n",
              "      <td>0.0<\/td>\n",
              "      <td>0.0<\/td>\n",
              "      <td>0.0<\/td>\n",
              "      <td>...<\/td>\n",
              "      <td>0.0<\/td>\n",
              "      <td>0.0<\/td>\n",
              "      <td>1.0<\/td>\n",
              "      <td>0.0<\/td>\n",
              "      <td>0.0<\/td>\n",
              "      <td>0.0<\/td>\n",
              "      <td>1.0<\/td>\n",
              "      <td>0.0<\/td>\n",
              "      <td>0.0<\/td>\n",
              "      <td>1<\/td>\n",
              "    <\/tr>\n",
              "    <tr>\n",
              "      <th>2196<\/th>\n",
              "      <td>73.0<\/td>\n",
              "      <td>1.0<\/td>\n",
              "      <td>0.0<\/td>\n",
              "      <td>102.0<\/td>\n",
              "      <td>0.0<\/td>\n",
              "      <td>0.0<\/td>\n",
              "      <td>0.0<\/td>\n",
              "      <td>0.0<\/td>\n",
              "      <td>0.0<\/td>\n",
              "      <td>0.0<\/td>\n",
              "      <td>...<\/td>\n",
              "      <td>0.0<\/td>\n",
              "      <td>1.0<\/td>\n",
              "      <td>0.0<\/td>\n",
              "      <td>0.0<\/td>\n",
              "      <td>0.0<\/td>\n",
              "      <td>0.0<\/td>\n",
              "      <td>0.0<\/td>\n",
              "      <td>0.0<\/td>\n",
              "      <td>0.0<\/td>\n",
              "      <td>1<\/td>\n",
              "    <\/tr>\n",
              "    <tr>\n",
              "      <th>2296<\/th>\n",
              "      <td>49.0<\/td>\n",
              "      <td>0.0<\/td>\n",
              "      <td>0.0<\/td>\n",
              "      <td>78.0<\/td>\n",
              "      <td>0.0<\/td>\n",
              "      <td>0.0<\/td>\n",
              "      <td>0.0<\/td>\n",
              "      <td>0.0<\/td>\n",
              "      <td>0.0<\/td>\n",
              "      <td>0.0<\/td>\n",
              "      <td>...<\/td>\n",
              "      <td>0.0<\/td>\n",
              "      <td>0.0<\/td>\n",
              "      <td>1.0<\/td>\n",
              "      <td>0.0<\/td>\n",
              "      <td>0.0<\/td>\n",
              "      <td>0.0<\/td>\n",
              "      <td>0.0<\/td>\n",
              "      <td>0.0<\/td>\n",
              "      <td>0.0<\/td>\n",
              "      <td>0<\/td>\n",
              "    <\/tr>\n",
              "    <tr>\n",
              "      <th>2805<\/th>\n",
              "      <td>69.0<\/td>\n",
              "      <td>1.0<\/td>\n",
              "      <td>0.0<\/td>\n",
              "      <td>0.0<\/td>\n",
              "      <td>0.0<\/td>\n",
              "      <td>0.0<\/td>\n",
              "      <td>0.0<\/td>\n",
              "      <td>0.0<\/td>\n",
              "      <td>0.0<\/td>\n",
              "      <td>0.0<\/td>\n",
              "      <td>...<\/td>\n",
              "      <td>0.0<\/td>\n",
              "      <td>0.0<\/td>\n",
              "      <td>0.0<\/td>\n",
              "      <td>0.0<\/td>\n",
              "      <td>0.0<\/td>\n",
              "      <td>0.0<\/td>\n",
              "      <td>0.0<\/td>\n",
              "      <td>0.0<\/td>\n",
              "      <td>0.0<\/td>\n",
              "      <td>1<\/td>\n",
              "    <\/tr>\n",
              "  <\/tbody>\n",
              "<\/table>\n",
              "<p>1578 rows × 21 columns<\/p>\n",
              "<\/div>"
            ]
          },
          "metadata":{
            
          },
          "output_type":"display_data"
        }
      ],
      "metadata":{
        
      }
    },
    {
      "cell_type":"code",
      "source":[
        "features = new_df.columns.tolist()\n",
        "features.remove(TREATMENT)\n",
        "features.remove(NIHSS_DISCHARGE)\n",
        "features.remove(AGE)  # = TREATMENT\n",
        "\n",
        "agg_operations = {TREATMENT: 'count'}\n",
        "agg_operations.update({\n",
        "    feature: ['mean', 'std'] for feature in features\n",
        "})\n",
        "\n",
        "table_one = new_df.groupby(TREATMENT).agg(agg_operations)\n",
        "table_one"
      ],
      "execution_count":28,
      "outputs":[
        {
          "data":{
            "text\/html":[
              "<div>\n",
              "<style scoped>\n",
              "    .dataframe tbody tr th:only-of-type {\n",
              "        vertical-align: middle;\n",
              "    }\n",
              "\n",
              "    .dataframe tbody tr th {\n",
              "        vertical-align: top;\n",
              "    }\n",
              "\n",
              "    .dataframe thead tr th {\n",
              "        text-align: left;\n",
              "    }\n",
              "\n",
              "    .dataframe thead tr:last-of-type th {\n",
              "        text-align: right;\n",
              "    }\n",
              "<\/style>\n",
              "<table border=\"1\" class=\"dataframe\">\n",
              "  <thead>\n",
              "    <tr>\n",
              "      <th><\/th>\n",
              "      <th>treatment<\/th>\n",
              "      <th colspan=\"2\" halign=\"left\">sex<\/th>\n",
              "      <th colspan=\"2\" halign=\"left\">heightvalue<\/th>\n",
              "      <th colspan=\"2\" halign=\"left\">weight<\/th>\n",
              "      <th colspan=\"2\" halign=\"left\">involvedVascularTerritorryArterior<\/th>\n",
              "      <th>involvedVascularTerritorryLeft<\/th>\n",
              "      <th>...<\/th>\n",
              "      <th colspan=\"2\" halign=\"left\">previousStrokeWithin3M<\/th>\n",
              "      <th colspan=\"2\" halign=\"left\">previousTIAOrAmaurosis<\/th>\n",
              "      <th colspan=\"2\" halign=\"left\">smokerCurrent<\/th>\n",
              "      <th colspan=\"2\" halign=\"left\">smokerPrevious<\/th>\n",
              "      <th colspan=\"2\" halign=\"left\">vascularDisease<\/th>\n",
              "    <\/tr>\n",
              "    <tr>\n",
              "      <th><\/th>\n",
              "      <th>count<\/th>\n",
              "      <th>mean<\/th>\n",
              "      <th>std<\/th>\n",
              "      <th>mean<\/th>\n",
              "      <th>std<\/th>\n",
              "      <th>mean<\/th>\n",
              "      <th>std<\/th>\n",
              "      <th>mean<\/th>\n",
              "      <th>std<\/th>\n",
              "      <th>mean<\/th>\n",
              "      <th>...<\/th>\n",
              "      <th>mean<\/th>\n",
              "      <th>std<\/th>\n",
              "      <th>mean<\/th>\n",
              "      <th>std<\/th>\n",
              "      <th>mean<\/th>\n",
              "      <th>std<\/th>\n",
              "      <th>mean<\/th>\n",
              "      <th>std<\/th>\n",
              "      <th>mean<\/th>\n",
              "      <th>std<\/th>\n",
              "    <\/tr>\n",
              "    <tr>\n",
              "      <th>treatment<\/th>\n",
              "      <th><\/th>\n",
              "      <th><\/th>\n",
              "      <th><\/th>\n",
              "      <th><\/th>\n",
              "      <th><\/th>\n",
              "      <th><\/th>\n",
              "      <th><\/th>\n",
              "      <th><\/th>\n",
              "      <th><\/th>\n",
              "      <th><\/th>\n",
              "      <th><\/th>\n",
              "      <th><\/th>\n",
              "      <th><\/th>\n",
              "      <th><\/th>\n",
              "      <th><\/th>\n",
              "      <th><\/th>\n",
              "      <th><\/th>\n",
              "      <th><\/th>\n",
              "      <th><\/th>\n",
              "      <th><\/th>\n",
              "      <th><\/th>\n",
              "    <\/tr>\n",
              "  <\/thead>\n",
              "  <tbody>\n",
              "    <tr>\n",
              "      <th>0<\/th>\n",
              "      <td>385<\/td>\n",
              "      <td>0.644156<\/td>\n",
              "      <td>0.479391<\/td>\n",
              "      <td>0.410390<\/td>\n",
              "      <td>0.492545<\/td>\n",
              "      <td>80.618182<\/td>\n",
              "      <td>32.471417<\/td>\n",
              "      <td>0.527273<\/td>\n",
              "      <td>0.499905<\/td>\n",
              "      <td>0.358442<\/td>\n",
              "      <td>...<\/td>\n",
              "      <td>0.085714<\/td>\n",
              "      <td>0.280306<\/td>\n",
              "      <td>0.028571<\/td>\n",
              "      <td>0.166815<\/td>\n",
              "      <td>0.441558<\/td>\n",
              "      <td>0.497219<\/td>\n",
              "      <td>0.135065<\/td>\n",
              "      <td>0.342238<\/td>\n",
              "      <td>0.111688<\/td>\n",
              "      <td>0.315392<\/td>\n",
              "    <\/tr>\n",
              "    <tr>\n",
              "      <th>1<\/th>\n",
              "      <td>1193<\/td>\n",
              "      <td>0.507963<\/td>\n",
              "      <td>0.500146<\/td>\n",
              "      <td>0.295893<\/td>\n",
              "      <td>0.456634<\/td>\n",
              "      <td>73.807209<\/td>\n",
              "      <td>26.795642<\/td>\n",
              "      <td>0.602682<\/td>\n",
              "      <td>0.489548<\/td>\n",
              "      <td>0.383906<\/td>\n",
              "      <td>...<\/td>\n",
              "      <td>0.162615<\/td>\n",
              "      <td>0.369169<\/td>\n",
              "      <td>0.044426<\/td>\n",
              "      <td>0.206126<\/td>\n",
              "      <td>0.127410<\/td>\n",
              "      <td>0.333571<\/td>\n",
              "      <td>0.174350<\/td>\n",
              "      <td>0.379570<\/td>\n",
              "      <td>0.253143<\/td>\n",
              "      <td>0.434995<\/td>\n",
              "    <\/tr>\n",
              "  <\/tbody>\n",
              "<\/table>\n",
              "<p>2 rows × 37 columns<\/p>\n",
              "<\/div>"
            ]
          },
          "metadata":{
            
          },
          "output_type":"display_data"
        }
      ],
      "metadata":{
        
      }
    },
    {
      "cell_type":"code",
      "source":[
        "def compute_table_one_smd(tab_one: pd.DataFrame, round_digits: int=4) -> pd.DataFrame:\n",
        "    feature_smds = []\n",
        "    for feature in features:\n",
        "        feature_table_one = tab_one[feature].values\n",
        "        neg_mean = feature_table_one[0, 0]\n",
        "        neg_std = feature_table_one[0, 1]\n",
        "        pos_mean = feature_table_one[1, 0]\n",
        "        pos_std = feature_table_one[1, 1]\n",
        "\n",
        "        smd = (pos_mean - neg_mean) \/ np.sqrt((pos_std ** 2 + neg_std ** 2) \/ 2)\n",
        "        smd = round(abs(smd), round_digits)\n",
        "        feature_smds.append(smd)\n",
        "\n",
        "    return pd.DataFrame({'features': features, 'smd': feature_smds})"
      ],
      "execution_count":29,
      "outputs":[
        
      ],
      "metadata":{
        
      }
    },
    {
      "cell_type":"code",
      "source":[
        "table_one_smd = compute_table_one_smd(table_one)\n",
        "table_one_smd"
      ],
      "execution_count":30,
      "outputs":[
        {
          "data":{
            "text\/html":[
              "<div>\n",
              "<style scoped>\n",
              "    .dataframe tbody tr th:only-of-type {\n",
              "        vertical-align: middle;\n",
              "    }\n",
              "\n",
              "    .dataframe tbody tr th {\n",
              "        vertical-align: top;\n",
              "    }\n",
              "\n",
              "    .dataframe thead th {\n",
              "        text-align: right;\n",
              "    }\n",
              "<\/style>\n",
              "<table border=\"1\" class=\"dataframe\">\n",
              "  <thead>\n",
              "    <tr style=\"text-align: right;\">\n",
              "      <th><\/th>\n",
              "      <th>features<\/th>\n",
              "      <th>smd<\/th>\n",
              "    <\/tr>\n",
              "  <\/thead>\n",
              "  <tbody>\n",
              "    <tr>\n",
              "      <th>0<\/th>\n",
              "      <td>sex<\/td>\n",
              "      <td>0.2780<\/td>\n",
              "    <\/tr>\n",
              "    <tr>\n",
              "      <th>1<\/th>\n",
              "      <td>heightvalue<\/td>\n",
              "      <td>0.2411<\/td>\n",
              "    <\/tr>\n",
              "    <tr>\n",
              "      <th>2<\/th>\n",
              "      <td>weight<\/td>\n",
              "      <td>0.2288<\/td>\n",
              "    <\/tr>\n",
              "    <tr>\n",
              "      <th>3<\/th>\n",
              "      <td>involvedVascularTerritorryArterior<\/td>\n",
              "      <td>0.1524<\/td>\n",
              "    <\/tr>\n",
              "    <tr>\n",
              "      <th>4<\/th>\n",
              "      <td>involvedVascularTerritorryLeft<\/td>\n",
              "      <td>0.0527<\/td>\n",
              "    <\/tr>\n",
              "    <tr>\n",
              "      <th>5<\/th>\n",
              "      <td>involvedVascularTerritorryPosterior<\/td>\n",
              "      <td>0.1885<\/td>\n",
              "    <\/tr>\n",
              "    <tr>\n",
              "      <th>6<\/th>\n",
              "      <td>involvedVascularTerritorryRight<\/td>\n",
              "      <td>0.0815<\/td>\n",
              "    <\/tr>\n",
              "    <tr>\n",
              "      <th>7<\/th>\n",
              "      <td>atrialFibrilation<\/td>\n",
              "      <td>0.5820<\/td>\n",
              "    <\/tr>\n",
              "    <tr>\n",
              "      <th>8<\/th>\n",
              "      <td>congestiveHeartFailure<\/td>\n",
              "      <td>0.3720<\/td>\n",
              "    <\/tr>\n",
              "    <tr>\n",
              "      <th>9<\/th>\n",
              "      <td>diabetes<\/td>\n",
              "      <td>0.3676<\/td>\n",
              "    <\/tr>\n",
              "    <tr>\n",
              "      <th>10<\/th>\n",
              "      <td>hyperlipidemia<\/td>\n",
              "      <td>0.4197<\/td>\n",
              "    <\/tr>\n",
              "    <tr>\n",
              "      <th>11<\/th>\n",
              "      <td>hypertension<\/td>\n",
              "      <td>0.7240<\/td>\n",
              "    <\/tr>\n",
              "    <tr>\n",
              "      <th>12<\/th>\n",
              "      <td>previousStrokeEarlierThan3M<\/td>\n",
              "      <td>0.0515<\/td>\n",
              "    <\/tr>\n",
              "    <tr>\n",
              "      <th>13<\/th>\n",
              "      <td>previousStrokeWithin3M<\/td>\n",
              "      <td>0.2346<\/td>\n",
              "    <\/tr>\n",
              "    <tr>\n",
              "      <th>14<\/th>\n",
              "      <td>previousTIAOrAmaurosis<\/td>\n",
              "      <td>0.0846<\/td>\n",
              "    <\/tr>\n",
              "    <tr>\n",
              "      <th>15<\/th>\n",
              "      <td>smokerCurrent<\/td>\n",
              "      <td>0.7420<\/td>\n",
              "    <\/tr>\n",
              "    <tr>\n",
              "      <th>16<\/th>\n",
              "      <td>smokerPrevious<\/td>\n",
              "      <td>0.1087<\/td>\n",
              "    <\/tr>\n",
              "    <tr>\n",
              "      <th>17<\/th>\n",
              "      <td>vascularDisease<\/td>\n",
              "      <td>0.3723<\/td>\n",
              "    <\/tr>\n",
              "  <\/tbody>\n",
              "<\/table>\n",
              "<\/div>"
            ]
          },
          "metadata":{
            
          },
          "output_type":"display_data"
        }
      ],
      "metadata":{
        
      }
    },
    {
      "cell_type":"markdown",
      "source":[
        "Vytvoření matice příznaků (odstranění $y$ a prediktoru).\n",
        "Standardizace numerických příznaků."
      ],
      "metadata":{
        
      }
    },
    {
      "cell_type":"code",
      "source":[
        "from sklearn.compose import ColumnTransformer\n",
        "from sklearn.preprocessing import StandardScaler\n",
        "\n",
        "num_cols = [HEIGHT, WEIGHT]\n",
        "\n",
        "death = new_df[NIHSS_DISCHARGE]\n",
        "treatment = new_df[TREATMENT]\n",
        "age = new_df[AGE]\n",
        "df_cleaned = new_df.drop([NIHSS_DISCHARGE, TREATMENT, AGE], axis=1)\n",
        "\n",
        "column_transformer = ColumnTransformer(\n",
        "    [('numerical', StandardScaler(), num_cols)],\n",
        "    sparse_threshold=0,\n",
        "    remainder='passthrough'\n",
        ")\n",
        "data = column_transformer.fit_transform(df_cleaned)\n",
        "data.shape"
      ],
      "execution_count":31,
      "outputs":[
        {
          "data":{
            "text\/plain":[
              "(1578, 18)"
            ]
          },
          "metadata":{
            
          },
          "output_type":"display_data"
        }
      ],
      "metadata":{
        
      }
    },
    {
      "cell_type":"markdown",
      "source":[
        "\"Fitneme\" model pro výpočet Propensity Scores."
      ],
      "metadata":{
        
      }
    },
    {
      "cell_type":"code",
      "source":[
        "from sklearn.linear_model import LogisticRegression\n",
        "\n",
        "def fit_propensity_model(x, y):\n",
        "    log_reg = LogisticRegression(solver='liblinear')\n",
        "    log_reg.fit(x, y)\n",
        "\n",
        "    prob_score = log_reg.predict_proba(x)[:, 1]\n",
        "    return prob_score"
      ],
      "execution_count":32,
      "outputs":[
        
      ],
      "metadata":{
        
      }
    },
    {
      "cell_type":"code",
      "source":[
        "pscore = fit_propensity_model(data, treatment)"
      ],
      "execution_count":33,
      "outputs":[
        
      ],
      "metadata":{
        
      }
    },
    {
      "cell_type":"code",
      "source":[
        "mask = treatment == 1\n",
        "\n",
        "pos_pscore = pscore[mask]\n",
        "neg_pscore = pscore[~mask]\n",
        "print('treatment count:', pos_pscore.shape)\n",
        "print('control count:', neg_pscore.shape)"
      ],
      "execution_count":34,
      "outputs":[
        {
          "name":"stdout",
          "text":[
            "treatment count: (1193,)\n",
            "control count: (385,)\n"
          ],
          "output_type":"stream"
        }
      ],
      "metadata":{
        
      }
    },
    {
      "cell_type":"code",
      "source":[
        "import seaborn as sns\n",
        "import matplotlib.pyplot as plt\n",
        "import warnings\n",
        "\n",
        "warnings.filterwarnings('ignore')\n",
        "\n",
        "# change default style figure and font size\n",
        "plt.rcParams['figure.figsize'] = 8, 6\n",
        "plt.rcParams['font.size'] = 12\n",
        "\n",
        "ax = sns.distplot(neg_pscore, label='control')\n",
        "ax = sns.distplot(pos_pscore, label='treatment')\n",
        "plt.xlim(0, 1)\n",
        "plt.title('Propensity Score Distribution of Control vs Treatment')\n",
        "plt.ylabel('Density')\n",
        "plt.xlabel('Scores')\n",
        "plt.legend()\n",
        "plt.tight_layout()\n",
        "plt.show()"
      ],
      "execution_count":35,
      "outputs":[
        {
          "data":{
            "image\/png":"[encoded data removed]"
          },
          "metadata":{
            "image\/png":{
              "width":0,
              "height":0
            }
          },
          "output_type":"display_data"
        }
      ],
      "metadata":{
        
      }
    },
    {
      "cell_type":"markdown",
      "source":[
        "Provedeme matching."
      ],
      "metadata":{
        
      }
    },
    {
      "cell_type":"code",
      "source":[
        "from sklearn.neighbors import NearestNeighbors\n",
        "\n",
        "def get_similar(pos_score: np.ndarray, neg_score: np.ndarray, topn: int=5, n_jobs: int=1):\n",
        "    knn = NearestNeighbors(n_neighbors=topn + 1, metric='euclidean', n_jobs=n_jobs)\n",
        "    knn.fit(neg_score.reshape(-1, 1))\n",
        "\n",
        "    distances, indices = knn.kneighbors(pos_score.reshape(-1, 1))\n",
        "    distances = distances[:, 1:]\n",
        "    indices = indices[:, 1:]\n",
        "    return distances, indices"
      ],
      "execution_count":36,
      "outputs":[
        
      ],
      "metadata":{
        
      }
    },
    {
      "cell_type":"code",
      "source":[
        "_, sim_indices = get_similar(pos_pscore, neg_pscore, topn=1)\n",
        "sim_indices"
      ],
      "execution_count":37,
      "outputs":[
        {
          "data":{
            "text\/plain":[
              "array([[ 62],\n",
              "       [148],\n",
              "       [310],\n",
              "       ...,\n",
              "       [ 27],\n",
              "       [ 49],\n",
              "       [362]])"
            ]
          },
          "metadata":{
            
          },
          "output_type":"display_data"
        }
      ],
      "metadata":{
        
      }
    },
    {
      "cell_type":"code",
      "source":[
        "df_cleaned[TREATMENT] = treatment\n",
        "df_cleaned[NIHSS_DISCHARGE] = death\n",
        "df_pos = df_cleaned[mask]\n",
        "df_neg = df_cleaned[~mask].iloc[sim_indices[:, 0]]\n",
        "df_matched = pd.concat([df_pos, df_neg], axis=0)\n",
        "df_matched.head()"
      ],
      "execution_count":38,
      "outputs":[
        {
          "data":{
            "text\/html":[
              "<div>\n",
              "<style scoped>\n",
              "    .dataframe tbody tr th:only-of-type {\n",
              "        vertical-align: middle;\n",
              "    }\n",
              "\n",
              "    .dataframe tbody tr th {\n",
              "        vertical-align: top;\n",
              "    }\n",
              "\n",
              "    .dataframe thead th {\n",
              "        text-align: right;\n",
              "    }\n",
              "<\/style>\n",
              "<table border=\"1\" class=\"dataframe\">\n",
              "  <thead>\n",
              "    <tr style=\"text-align: right;\">\n",
              "      <th><\/th>\n",
              "      <th>sex<\/th>\n",
              "      <th>heightvalue<\/th>\n",
              "      <th>weight<\/th>\n",
              "      <th>involvedVascularTerritorryArterior<\/th>\n",
              "      <th>involvedVascularTerritorryLeft<\/th>\n",
              "      <th>involvedVascularTerritorryPosterior<\/th>\n",
              "      <th>involvedVascularTerritorryRight<\/th>\n",
              "      <th>atrialFibrilation<\/th>\n",
              "      <th>congestiveHeartFailure<\/th>\n",
              "      <th>diabetes<\/th>\n",
              "      <th>hyperlipidemia<\/th>\n",
              "      <th>hypertension<\/th>\n",
              "      <th>previousStrokeEarlierThan3M<\/th>\n",
              "      <th>previousStrokeWithin3M<\/th>\n",
              "      <th>previousTIAOrAmaurosis<\/th>\n",
              "      <th>smokerCurrent<\/th>\n",
              "      <th>smokerPrevious<\/th>\n",
              "      <th>vascularDisease<\/th>\n",
              "      <th>treatment<\/th>\n",
              "      <th>NIHSS-diff-discharge<\/th>\n",
              "    <\/tr>\n",
              "  <\/thead>\n",
              "  <tbody>\n",
              "    <tr>\n",
              "      <th>2<\/th>\n",
              "      <td>1.0<\/td>\n",
              "      <td>0.0<\/td>\n",
              "      <td>77.0<\/td>\n",
              "      <td>1.0<\/td>\n",
              "      <td>1.0<\/td>\n",
              "      <td>0.0<\/td>\n",
              "      <td>0.0<\/td>\n",
              "      <td>1.0<\/td>\n",
              "      <td>0.0<\/td>\n",
              "      <td>0.0<\/td>\n",
              "      <td>0.0<\/td>\n",
              "      <td>1.0<\/td>\n",
              "      <td>0.0<\/td>\n",
              "      <td>0.0<\/td>\n",
              "      <td>0.0<\/td>\n",
              "      <td>0.0<\/td>\n",
              "      <td>1.0<\/td>\n",
              "      <td>0.0<\/td>\n",
              "      <td>1<\/td>\n",
              "      <td>-6.0<\/td>\n",
              "    <\/tr>\n",
              "    <tr>\n",
              "      <th>3<\/th>\n",
              "      <td>0.0<\/td>\n",
              "      <td>0.0<\/td>\n",
              "      <td>55.0<\/td>\n",
              "      <td>1.0<\/td>\n",
              "      <td>1.0<\/td>\n",
              "      <td>0.0<\/td>\n",
              "      <td>0.0<\/td>\n",
              "      <td>1.0<\/td>\n",
              "      <td>0.0<\/td>\n",
              "      <td>1.0<\/td>\n",
              "      <td>1.0<\/td>\n",
              "      <td>1.0<\/td>\n",
              "      <td>0.0<\/td>\n",
              "      <td>0.0<\/td>\n",
              "      <td>0.0<\/td>\n",
              "      <td>0.0<\/td>\n",
              "      <td>0.0<\/td>\n",
              "      <td>0.0<\/td>\n",
              "      <td>1<\/td>\n",
              "      <td>0.0<\/td>\n",
              "    <\/tr>\n",
              "    <tr>\n",
              "      <th>15<\/th>\n",
              "      <td>1.0<\/td>\n",
              "      <td>0.0<\/td>\n",
              "      <td>80.0<\/td>\n",
              "      <td>0.0<\/td>\n",
              "      <td>1.0<\/td>\n",
              "      <td>1.0<\/td>\n",
              "      <td>0.0<\/td>\n",
              "      <td>1.0<\/td>\n",
              "      <td>1.0<\/td>\n",
              "      <td>1.0<\/td>\n",
              "      <td>0.0<\/td>\n",
              "      <td>1.0<\/td>\n",
              "      <td>0.0<\/td>\n",
              "      <td>0.0<\/td>\n",
              "      <td>0.0<\/td>\n",
              "      <td>0.0<\/td>\n",
              "      <td>0.0<\/td>\n",
              "      <td>0.0<\/td>\n",
              "      <td>1<\/td>\n",
              "      <td>-12.0<\/td>\n",
              "    <\/tr>\n",
              "    <tr>\n",
              "      <th>17<\/th>\n",
              "      <td>0.0<\/td>\n",
              "      <td>0.0<\/td>\n",
              "      <td>0.0<\/td>\n",
              "      <td>0.0<\/td>\n",
              "      <td>0.0<\/td>\n",
              "      <td>0.0<\/td>\n",
              "      <td>0.0<\/td>\n",
              "      <td>0.0<\/td>\n",
              "      <td>0.0<\/td>\n",
              "      <td>1.0<\/td>\n",
              "      <td>0.0<\/td>\n",
              "      <td>1.0<\/td>\n",
              "      <td>0.0<\/td>\n",
              "      <td>0.0<\/td>\n",
              "      <td>0.0<\/td>\n",
              "      <td>0.0<\/td>\n",
              "      <td>0.0<\/td>\n",
              "      <td>0.0<\/td>\n",
              "      <td>1<\/td>\n",
              "      <td>0.0<\/td>\n",
              "    <\/tr>\n",
              "    <tr>\n",
              "      <th>18<\/th>\n",
              "      <td>1.0<\/td>\n",
              "      <td>0.0<\/td>\n",
              "      <td>82.0<\/td>\n",
              "      <td>0.0<\/td>\n",
              "      <td>1.0<\/td>\n",
              "      <td>1.0<\/td>\n",
              "      <td>1.0<\/td>\n",
              "      <td>0.0<\/td>\n",
              "      <td>0.0<\/td>\n",
              "      <td>1.0<\/td>\n",
              "      <td>1.0<\/td>\n",
              "      <td>1.0<\/td>\n",
              "      <td>0.0<\/td>\n",
              "      <td>0.0<\/td>\n",
              "      <td>0.0<\/td>\n",
              "      <td>0.0<\/td>\n",
              "      <td>0.0<\/td>\n",
              "      <td>1.0<\/td>\n",
              "      <td>1<\/td>\n",
              "      <td>-6.0<\/td>\n",
              "    <\/tr>\n",
              "  <\/tbody>\n",
              "<\/table>\n",
              "<\/div>"
            ]
          },
          "metadata":{
            
          },
          "output_type":"display_data"
        }
      ],
      "metadata":{
        
      }
    },
    {
      "cell_type":"code",
      "source":[
        "table_one_matched = df_matched.groupby(TREATMENT).agg(agg_operations)\n",
        "table_one_smd_matched = compute_table_one_smd(table_one_matched)\n",
        "table_one_smd_matched"
      ],
      "execution_count":39,
      "outputs":[
        {
          "data":{
            "text\/html":[
              "<div>\n",
              "<style scoped>\n",
              "    .dataframe tbody tr th:only-of-type {\n",
              "        vertical-align: middle;\n",
              "    }\n",
              "\n",
              "    .dataframe tbody tr th {\n",
              "        vertical-align: top;\n",
              "    }\n",
              "\n",
              "    .dataframe thead th {\n",
              "        text-align: right;\n",
              "    }\n",
              "<\/style>\n",
              "<table border=\"1\" class=\"dataframe\">\n",
              "  <thead>\n",
              "    <tr style=\"text-align: right;\">\n",
              "      <th><\/th>\n",
              "      <th>features<\/th>\n",
              "      <th>smd<\/th>\n",
              "    <\/tr>\n",
              "  <\/thead>\n",
              "  <tbody>\n",
              "    <tr>\n",
              "      <th>0<\/th>\n",
              "      <td>sex<\/td>\n",
              "      <td>0.3078<\/td>\n",
              "    <\/tr>\n",
              "    <tr>\n",
              "      <th>1<\/th>\n",
              "      <td>heightvalue<\/td>\n",
              "      <td>0.1409<\/td>\n",
              "    <\/tr>\n",
              "    <tr>\n",
              "      <th>2<\/th>\n",
              "      <td>weight<\/td>\n",
              "      <td>0.2236<\/td>\n",
              "    <\/tr>\n",
              "    <tr>\n",
              "      <th>3<\/th>\n",
              "      <td>involvedVascularTerritorryArterior<\/td>\n",
              "      <td>0.0778<\/td>\n",
              "    <\/tr>\n",
              "    <tr>\n",
              "      <th>4<\/th>\n",
              "      <td>involvedVascularTerritorryLeft<\/td>\n",
              "      <td>0.1007<\/td>\n",
              "    <\/tr>\n",
              "    <tr>\n",
              "      <th>5<\/th>\n",
              "      <td>involvedVascularTerritorryPosterior<\/td>\n",
              "      <td>0.0241<\/td>\n",
              "    <\/tr>\n",
              "    <tr>\n",
              "      <th>6<\/th>\n",
              "      <td>involvedVascularTerritorryRight<\/td>\n",
              "      <td>0.0694<\/td>\n",
              "    <\/tr>\n",
              "    <tr>\n",
              "      <th>7<\/th>\n",
              "      <td>atrialFibrilation<\/td>\n",
              "      <td>0.1414<\/td>\n",
              "    <\/tr>\n",
              "    <tr>\n",
              "      <th>8<\/th>\n",
              "      <td>congestiveHeartFailure<\/td>\n",
              "      <td>0.2381<\/td>\n",
              "    <\/tr>\n",
              "    <tr>\n",
              "      <th>9<\/th>\n",
              "      <td>diabetes<\/td>\n",
              "      <td>0.0611<\/td>\n",
              "    <\/tr>\n",
              "    <tr>\n",
              "      <th>10<\/th>\n",
              "      <td>hyperlipidemia<\/td>\n",
              "      <td>0.0812<\/td>\n",
              "    <\/tr>\n",
              "    <tr>\n",
              "      <th>11<\/th>\n",
              "      <td>hypertension<\/td>\n",
              "      <td>0.0324<\/td>\n",
              "    <\/tr>\n",
              "    <tr>\n",
              "      <th>12<\/th>\n",
              "      <td>previousStrokeEarlierThan3M<\/td>\n",
              "      <td>0.0174<\/td>\n",
              "    <\/tr>\n",
              "    <tr>\n",
              "      <th>13<\/th>\n",
              "      <td>previousStrokeWithin3M<\/td>\n",
              "      <td>0.0640<\/td>\n",
              "    <\/tr>\n",
              "    <tr>\n",
              "      <th>14<\/th>\n",
              "      <td>previousTIAOrAmaurosis<\/td>\n",
              "      <td>0.0166<\/td>\n",
              "    <\/tr>\n",
              "    <tr>\n",
              "      <th>15<\/th>\n",
              "      <td>smokerCurrent<\/td>\n",
              "      <td>0.0000<\/td>\n",
              "    <\/tr>\n",
              "    <tr>\n",
              "      <th>16<\/th>\n",
              "      <td>smokerPrevious<\/td>\n",
              "      <td>0.1058<\/td>\n",
              "    <\/tr>\n",
              "    <tr>\n",
              "      <th>17<\/th>\n",
              "      <td>vascularDisease<\/td>\n",
              "      <td>0.0325<\/td>\n",
              "    <\/tr>\n",
              "  <\/tbody>\n",
              "<\/table>\n",
              "<\/div>"
            ]
          },
          "metadata":{
            
          },
          "output_type":"display_data"
        }
      ],
      "metadata":{
        
      }
    },
    {
      "cell_type":"code",
      "source":[
        "from scipy.stats import stats\n",
        "\n",
        "num_matched_pairs = df_neg.shape[0]\n",
        "print('number of matched pairs: ', num_matched_pairs)\n",
        "\n",
        "# pair t-test\n",
        "stats.ttest_rel(df_pos[NIHSS_DISCHARGE].values, df_neg[NIHSS_DISCHARGE].values)"
      ],
      "execution_count":40,
      "outputs":[
        {
          "name":"stdout",
          "text":[
            "number of matched pairs:  1193\n"
          ],
          "output_type":"stream"
        },
        {
          "data":{
            "text\/plain":[
              "Ttest_relResult(statistic=-5.627259059529332, pvalue=2.2805911701291668e-08)"
            ]
          },
          "metadata":{
            
          },
          "output_type":"display_data"
        }
      ],
      "metadata":{
        
      }
    }
  ],
  "metadata":{
    
  },
  "nbformat":4,
  "nbformat_minor":0
}