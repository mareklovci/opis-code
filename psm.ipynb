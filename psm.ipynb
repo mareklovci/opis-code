{
  "nbformat": 4,
  "nbformat_minor": 0,
  "metadata": {
    "colab": {
      "name": "psm.ipynb",
      "provenance": [],
      "authorship_tag": "ABX9TyPOtTPbvcA7CdMtUZ8tGfYr",
      "include_colab_link": true
    },
    "kernelspec": {
      "name": "python3",
      "display_name": "Python 3"
    }
  },
  "cells": [
    {
      "cell_type": "markdown",
      "metadata": {
        "id": "view-in-github",
        "colab_type": "text"
      },
      "source": [
        "<a href=\"https://colab.research.google.com/github/mareklovci/opis-code/blob/master/psm.ipynb\" target=\"_parent\"><img src=\"https://colab.research.google.com/assets/colab-badge.svg\" alt=\"Open In Colab\"/></a>"
      ]
    },
    {
      "cell_type": "markdown",
      "metadata": {
        "id": "ZuSpx-6BxO8s"
      },
      "source": [
        "# Propensity Score Matching\n",
        "\n",
        "Předmět: KIV/OPIS (Oborový projekt Informační Systémy)\n",
        "\n",
        "Zpracoval: Bc. Marek Lovčí\n",
        "\n",
        "Zadavatel: Ing. Martin Kryl\n"
      ]
    },
    {
      "cell_type": "code",
      "metadata": {
        "id": "_WxHewyvjnrT"
      },
      "source": [
        ""
      ],
      "execution_count": null,
      "outputs": []
    }
  ]
}