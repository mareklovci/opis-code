{
  "cells":[
    {
      "cell_type":"markdown",
      "source":[
        "# KIV\/OPIS Oborový projekt IS\n",
        "\n",
        "Párování (v angl. “matching”) je statistická technika používaná k vyhodnocování efektu léčby porovnáním léčených a neléčených pacientů.\n",
        "Cílem párovacích metod je nalézt pro každého léčeného pacienta jednoho nebo více neléčených pacientů s podobným stavem oproti kterým lze evaluovat efekty léčby.\n",
        "Premisou takového postupu je umožnit odhadnout reálné účinky léčby a současně redukovat vzniklý statistický bias.\n",
        "\n",
        "### Analýza\n",
        "\n",
        "Jestliže je zkoumaný výsledek binární – léčba (ne)zabrala, je pro analýzu párovaných dat možné použít metodu “podmíněné logistické regrese” (rozšíření klasické logistické regrese), která umožňuje vzít v úvahu data rozdělená do mnoha shluků (tzv. stratifikace), kontinuální a binární způsoby léčení (prediktory) a umožňuje kontrolovat kovariáty.\n",
        "V určitých případech je možné použít jednodušších metod, jako “paired difference test”, “McNemar's test” a “Cochran-Mantel-Haenszel test”.\n",
        "\n",
        "Jestliže má být výstup studie kontinuální (výstup zaznamenaný v čase), musí být proveden odhad technikou “průměrného efektu léčby” – “average treatment effect (ATE)”.\n",
        "\n",
        "Statistické párování lze také použít jako metoda pro předzpracování dat, pro použití další metodou, např. regresními technikami (lineární regrese, polynomiální regrese,…).\n",
        "\n",
        "### Kovariát (covariate)\n",
        "\n",
        "Kovariáty jsou charakteristikami účastníků experimentu (jejich vlastnosti, vyjma vlastní léčby).\n",
        "Jestliže jsou před samotným experimentem nasbírána data o charakteristikách, je možné při studii na účastnících experimentu vyhodnocovat např. jak léčba ovlivňuje různé populační skupiny.\n",
        "Případně se tato data dají použít pro řízení vlivu jednotlivých kovariátů na studii.\n",
        "\n",
        "Kovariáty jako takové mají vliv na výstup studie, udejme příklad.\n",
        "Mějme experiment zkoumající vliv antihypertenziv (léků snižujících krevní tlak) při léčbě posttraumatické stresové poruchy (PTSP) vyskytující se u válečných veteránů.\n",
        "Míra dávky léku je v tomto kontextu léčbou, zatímco věk a další biologické rysy (váha, výška) jsou faktory ovlivňující výkonnost léčby, jsou tedy kovariáty léčby.\n",
        "\n",
        "Kovariát může být jak nezávislou proměnnou, tak nechtěnou proměnnou mající přímý vliv na výsledek studie.\n",
        "Obecně lze říci, že započítáním kovariátů lze dosáhnou vyšší věrohodnosti studie.\n",
        "\n",
        "### Propensity score matching (PSM)\n",
        "\n",
        "Párování skóre náchylnosti je raná párovací technika, vytvořená v rámci Rubinova kauzálního modelu.\n",
        "Technika však vykazuje modelovou závislost – “model dependence” (jednotlivé predikce jsou výrazně odlišné v závislosti na parametrech modelu), vysoký bias, neefektivnost a není tedy dle jistého článku doporučována.\n",
        "\n",
        "Konkrétně tato technika není doporučována v článku *Why Propensity Scores Should Not Be Used for Matching*.\n",
        "Autoři v tomto článku vysvětlují, kdy je technika PSM používána a proč je tak používána nesprávně.\n",
        "Prezentují techniky CEM (Coarsened Exact Matching) a MDM (Mahalanobis Discrepancy Matching), které představují alternativu k PSM dávající v určitých případech smysluplnější výsledky než PSM.\n",
        "Svoje tvrzení dokazují experimenty."
      ],
      "metadata":{
        
      }
    },
    {
      "cell_type":"markdown",
      "source":[
        "## Příprava dat\n",
        "\n",
        "Načteme soubor s daty z klinické studie srdečních nemocí."
      ],
      "metadata":{
        
      }
    },
    {
      "cell_type":"code",
      "source":[
        "import pandas as pd\n",
        "import time\n",
        "\n",
        "t = time.time()\n",
        "df = pd.read_excel('fmpl-sits-dataset.xlsx', sheet_name='all', header=8, index_col=None, na_values=['NA'], usecols='B:C,E:BY')\n",
        "elapsed = time.time() - t\n",
        "\n",
        "print('Excel load time: {:.2f} seconds'.format(elapsed))\n",
        "print('Number of rows: {}'.format(df.shape[0]))"
      ],
      "execution_count":0,
      "outputs":[
        {
          "name":"stdout",
          "text":[
            "Excel load time: 38.19 seconds\n",
            "Number of rows: 2890\n"
          ],
          "output_type":"stream"
        }
      ],
      "metadata":{
        
      }
    },
    {
      "cell_type":"code",
      "source":[
        "def fillNaN_with_unifrand(df):\n",
        "    a = df.values\n",
        "    m = np.isnan(a) # mask of NaNs\n",
        "    mu, sigma = df.mean(), df.std()\n",
        "    a[m] = np.random.normal(mu, sigma, size=m.sum())\n",
        "    return df"
      ],
      "execution_count":0,
      "outputs":[
        
      ],
      "metadata":{
        
      }
    },
    {
      "cell_type":"markdown",
      "source":[
        "Do proměnných uložím názvy sloupců, se kterými budu pracovat.\n",
        "Jedná se o názvy sloupců z datasetu, ale i o nové názvy sloupců, které budu teprve vytvářet."
      ],
      "metadata":{
        
      }
    },
    {
      "cell_type":"code",
      "source":[
        "# General\n",
        "AGE = 'age'\n",
        "SEX = 'sex'\n",
        "BMI = 'BMI'\n",
        "HEIGHT = 'heightvalue'\n",
        "WEIGHT = 'weight'\n",
        "NIHSS = 'NIHSS baseline'\n",
        "NIHSS_DISCHARGE = 'NIHSS-diff-discharge'\n",
        "TROMBECTOMY = 'thrombectomyDone'\n",
        "TROMBOLYSIS = 'thrombolysisIV'\n",
        "TREATMENT = 'treatment'\n",
        "\n",
        "GEN_LIST = [AGE, SEX, HEIGHT, WEIGHT, NIHSS_DISCHARGE]\n",
        "\n",
        "# Diagnosis\n",
        "BOOL_VTA = 'involvedVascularTerritorryArterior'\n",
        "BOOL_VTL = 'involvedVascularTerritorryLeft'\n",
        "BOOL_VTP = 'involvedVascularTerritorryPosterior'\n",
        "BOOL_VTR = 'involvedVascularTerritorryRight'\n",
        "BOOL_VTU = 'involvedVascularTerritorryUnknown'\n",
        "BOOL_RFC = 'RiskFactorsCount'\n",
        "BOOL_RFU = 'RiskFactorsUnknown'\n",
        "BOOL_AFB = 'atrialFibrilation'\n",
        "BOOL_CHF = 'congestiveHeartFailure'\n",
        "BOOL_DIA = 'diabetes'\n",
        "BOOL_HYL = 'hyperlipidemia'\n",
        "BOOL_HYT = 'hypertension'\n",
        "BOOL_SEM = 'previousStrokeEarlierThan3M'\n",
        "BOOL_SWM = 'previousStrokeWithin3M'\n",
        "BOOL_PTA = 'previousTIAOrAmaurosis'\n",
        "BOOL_SC = 'smokerCurrent'\n",
        "BOOL_SP = 'smokerPrevious'\n",
        "BOOL_VD = 'vascularDisease'\n",
        "\n",
        "DIAG_LIST = [\n",
        "    BOOL_VTA, BOOL_VTL, BOOL_VTP, BOOL_VTR, #BOOL_VTU,\n",
        "    BOOL_RFC, BOOL_RFU, BOOL_AFB, BOOL_CHF, BOOL_DIA,\n",
        "    BOOL_HYL, BOOL_HYT, BOOL_SEM, BOOL_SWM, BOOL_PTA,\n",
        "    BOOL_SC, BOOL_SP, BOOL_VD\n",
        "    ]\n",
        "\n",
        "# Treatment\n",
        "TREA_AAO = 'anticoagulantsOral'\n",
        "TREA_ADO = 'antidiabeticOral'\n",
        "TREA_AHI = 'antihypertensiveIV'\n",
        "TREA_AHP = 'antihypertensivePO'\n",
        "TREA_APO = 'antiplateletOther'\n",
        "TREA_ASP = 'aspirin'\n",
        "TREA_CLG = 'clopidogrel'\n",
        "TREA_DIP = 'dipyridamole'\n",
        "TREA_HPC = 'heparinLMWHPreventionCMP'\n",
        "TREA_HPT = 'heparinLMWHPreventionTromb'\n",
        "TREA_HPR = 'heparinPreventionCMP'\n",
        "TREA_HPB = 'heparinPreventionTromb'\n",
        "TREA_INS = 'insulin'\n",
        "TREA_NSA = 'nsaid'\n",
        "\n",
        "TREA_LIST = [\n",
        "    TREA_AAO, TREA_ADO, TREA_AHI, TREA_AHP, TREA_APO,\n",
        "    TREA_ASP, TREA_CLG, TREA_DIP, TREA_HPC, TREA_HPT,\n",
        "    TREA_HPR, TREA_HPB, TREA_INS, TREA_NSA\n",
        "]"
      ],
      "execution_count":0,
      "outputs":[
        
      ],
      "metadata":{
        
      }
    },
    {
      "cell_type":"code",
      "source":[
        "df.sex = df.sex.replace('M', 1)\n",
        "df.sex = df.sex.replace('F', 0)\n",
        "\n",
        "# Fill NaN values for treatment columns (supposedly no treatment provided)\n",
        "df[TROMBECTOMY] = df[TROMBECTOMY].fillna(0)\n",
        "df[TROMBOLYSIS] = df[TROMBOLYSIS].fillna(0)"
      ],
      "execution_count":0,
      "outputs":[
        
      ],
      "metadata":{
        
      }
    },
    {
      "cell_type":"code",
      "source":[
        "# Initialize Treatment Groups\n",
        "trombectomyGroup = df.loc[(df[TROMBECTOMY] == True) & (df[TROMBOLYSIS] == False)]\n",
        "print('Trombectomy rows: {}'.format(trombectomyGroup.shape[0]))\n",
        "\n",
        "trombolysisGroup = df.loc[(df[TROMBECTOMY] == False) & (df[TROMBOLYSIS] == True)]\n",
        "print('Trombolysis rows: {}'.format(trombolysisGroup.shape[0]))\n",
        "\n",
        "bridgeGroup = df.loc[(df[TROMBECTOMY] == True) & (df[TROMBOLYSIS] == True)]\n",
        "print('Bridge rows: {}'.format(bridgeGroup.shape[0]))\n",
        "\n",
        "noTreatmentGroup = df.loc[(df[TROMBECTOMY] == False) & (df[TROMBOLYSIS] == False)]\n",
        "print('No treatment rows: {}'.format(noTreatmentGroup.shape[0]))"
      ],
      "execution_count":0,
      "outputs":[
        {
          "name":"stdout",
          "text":[
            "Trombectomy rows: 66\n",
            "Trombolysis rows: 1251\n",
            "Bridge rows: 261\n",
            "No treatment rows: 1312\n"
          ],
          "output_type":"stream"
        }
      ],
      "metadata":{
        
      }
    },
    {
      "cell_type":"code",
      "source":[
        "import numpy as np\n",
        "\n",
        "# Merge Data Frames back into 'df' variable\n",
        "# df = pd.concat([trombectomyGroup, trombolysisGroup, bridgeGroup, noTreatmentGroup])\n",
        "df = pd.concat([trombolysisGroup, trombectomyGroup, bridgeGroup, noTreatmentGroup])\n",
        "\n",
        "# df['bridge'] = np.where(df.thrombectomyDone == 1 & df.thrombolysisIV == 1, 1, 0)\n",
        "\n",
        "new_df = df.filter(GEN_LIST + DIAG_LIST, axis=1)\n",
        "\n",
        "new_df[NIHSS_DISCHARGE] = df[NIHSS_DISCHARGE].fillna(0)\n",
        "# new_df[NIHSS_DISCHARGE] = new_df[NIHSS] + new_df[NIHSS_DISCHARGE]\n",
        "\n",
        "# Initialize TREATMENT column\n",
        "new_df[TREATMENT] = np.where(df[TROMBOLYSIS] == 1, 1, 0)\n",
        "new_df[TREATMENT] = np.where(df[TROMBECTOMY] == 1, 1, 0)\n",
        "\n",
        "print('Number of rows: {}'.format(new_df.shape[0]))\n",
        "\n",
        "new_df[HEIGHT] = fillNaN_with_unifrand(new_df[HEIGHT])\n",
        "\n",
        "test = new_df[new_df.treatment == 1]\n",
        "control = new_df[new_df.treatment == 0]"
      ],
      "execution_count":0,
      "outputs":[
        {
          "name":"stdout",
          "text":[
            "Number of rows: 2890\n"
          ],
          "output_type":"stream"
        }
      ],
      "metadata":{
        
      }
    },
    {
      "cell_type":"markdown",
      "source":[
        "## Analýza dat"
      ],
      "metadata":{
        
      }
    },
    {
      "cell_type":"code",
      "source":[
        "import matplotlib.pyplot as plt\n",
        "\n",
        "fig, axs = plt.subplots(2, 2)\n",
        "\n",
        "axs[0, 0].hist(new_df[AGE])  # df.hist(AGE)\n",
        "axs[0, 1].hist(new_df[NIHSS_DISCHARGE])\n",
        "axs[1, 0].hist(new_df[HEIGHT])\n",
        "axs[1, 1].hist(new_df[WEIGHT])"
      ],
      "execution_count":0,
      "outputs":[
        {
          "data":{
            "text\/plain":[
              "(array([ 93., 361., 669., 424., 132.,  46.,  13.,   8.,   1.,   1.]),\n",
              " array([ 40. ,  55.5,  71. ,  86.5, 102. , 117.5, 133. , 148.5, 164. , 179.5, 195. ]),\n",
              " <BarContainer object of 10 artists>)"
            ],
            "image\/png":"[encoded data removed]"
          },
          "metadata":{
            "image\/png":{
              "width":0,
              "height":0
            }
          },
          "output_type":"display_data"
        }
      ],
      "metadata":{
        
      }
    },
    {
      "cell_type":"code",
      "source":[
        "# 0 - control, 1 - treatment\n",
        "new_df.groupby(TREATMENT)[NIHSS_DISCHARGE].mean()"
      ],
      "execution_count":0,
      "outputs":[
        {
          "data":{
            "text\/plain":[
              "treatment\n",
              "0   -1.282091\n",
              "1   -3.648318\n",
              "Name: NIHSS-diff-discharge, dtype: float64"
            ]
          },
          "metadata":{
            
          },
          "output_type":"display_data"
        }
      ],
      "metadata":{
        
      }
    },
    {
      "cell_type":"code",
      "source":[
        "# Are the treated different in terms of age and sex?\n",
        "new_df.groupby(TREATMENT)[['age', 'sex']].mean()"
      ],
      "execution_count":0,
      "outputs":[
        {
          "data":{
            "text\/html":[
              "<div>\n",
              "<style scoped>\n",
              "    .dataframe tbody tr th:only-of-type {\n",
              "        vertical-align: middle;\n",
              "    }\n",
              "\n",
              "    .dataframe tbody tr th {\n",
              "        vertical-align: top;\n",
              "    }\n",
              "\n",
              "    .dataframe thead th {\n",
              "        text-align: right;\n",
              "    }\n",
              "<\/style>\n",
              "<table border=\"1\" class=\"dataframe\">\n",
              "  <thead>\n",
              "    <tr style=\"text-align: right;\">\n",
              "      <th><\/th>\n",
              "      <th>age<\/th>\n",
              "      <th>sex<\/th>\n",
              "    <\/tr>\n",
              "    <tr>\n",
              "      <th>treatment<\/th>\n",
              "      <th><\/th>\n",
              "      <th><\/th>\n",
              "    <\/tr>\n",
              "  <\/thead>\n",
              "  <tbody>\n",
              "    <tr>\n",
              "      <th>0<\/th>\n",
              "      <td>68.626303<\/td>\n",
              "      <td>0.530473<\/td>\n",
              "    <\/tr>\n",
              "    <tr>\n",
              "      <th>1<\/th>\n",
              "      <td>68.330275<\/td>\n",
              "      <td>0.553517<\/td>\n",
              "    <\/tr>\n",
              "  <\/tbody>\n",
              "<\/table>\n",
              "<\/div>"
            ]
          },
          "metadata":{
            
          },
          "output_type":"display_data"
        }
      ],
      "metadata":{
        
      }
    },
    {
      "cell_type":"markdown",
      "source":[
        "## Propensity Score Matching\n",
        "\n",
        "### Provedení léčebných postupů vede ke snížení NIHSS sledovaných pacientů\n",
        "\n",
        "Trombectomie, Trombolýza\n",
        "\n",
        "H0: Provedení léčebných postupů NEVEDE ke snížení NIHSS sledovaných pacientů\n",
        "\n",
        "HA: Provedení léčebných postupů VEDE ke snížení NIHSS sledovaných pacientů"
      ],
      "metadata":{
        
      }
    },
    {
      "cell_type":"code",
      "source":[
        "new_df"
      ],
      "execution_count":0,
      "outputs":[
        {
          "data":{
            "text\/html":[
              "<div>\n",
              "<style scoped>\n",
              "    .dataframe tbody tr th:only-of-type {\n",
              "        vertical-align: middle;\n",
              "    }\n",
              "\n",
              "    .dataframe tbody tr th {\n",
              "        vertical-align: top;\n",
              "    }\n",
              "\n",
              "    .dataframe thead th {\n",
              "        text-align: right;\n",
              "    }\n",
              "<\/style>\n",
              "<table border=\"1\" class=\"dataframe\">\n",
              "  <thead>\n",
              "    <tr style=\"text-align: right;\">\n",
              "      <th><\/th>\n",
              "      <th>age<\/th>\n",
              "      <th>sex<\/th>\n",
              "      <th>heightvalue<\/th>\n",
              "      <th>weight<\/th>\n",
              "      <th>NIHSS-diff-discharge<\/th>\n",
              "      <th>involvedVascularTerritorryArterior<\/th>\n",
              "      <th>involvedVascularTerritorryLeft<\/th>\n",
              "      <th>involvedVascularTerritorryPosterior<\/th>\n",
              "      <th>involvedVascularTerritorryRight<\/th>\n",
              "      <th>RiskFactorsCount<\/th>\n",
              "      <th>RiskFactorsUnknown<\/th>\n",
              "      <th>atrialFibrilation<\/th>\n",
              "      <th>congestiveHeartFailure<\/th>\n",
              "      <th>diabetes<\/th>\n",
              "      <th>hyperlipidemia<\/th>\n",
              "      <th>hypertension<\/th>\n",
              "      <th>previousStrokeEarlierThan3M<\/th>\n",
              "      <th>previousStrokeWithin3M<\/th>\n",
              "      <th>previousTIAOrAmaurosis<\/th>\n",
              "      <th>smokerCurrent<\/th>\n",
              "      <th>smokerPrevious<\/th>\n",
              "      <th>vascularDisease<\/th>\n",
              "      <th>treatment<\/th>\n",
              "    <\/tr>\n",
              "  <\/thead>\n",
              "  <tbody>\n",
              "    <tr>\n",
              "      <th>1<\/th>\n",
              "      <td>57.0<\/td>\n",
              "      <td>0.0<\/td>\n",
              "      <td>185.756851<\/td>\n",
              "      <td>89.0<\/td>\n",
              "      <td>-4.0<\/td>\n",
              "      <td>1.0<\/td>\n",
              "      <td>0.0<\/td>\n",
              "      <td>0.0<\/td>\n",
              "      <td>1.0<\/td>\n",
              "      <td>0.0<\/td>\n",
              "      <td>0.0<\/td>\n",
              "      <td>0.0<\/td>\n",
              "      <td>0.0<\/td>\n",
              "      <td>0.0<\/td>\n",
              "      <td>0.0<\/td>\n",
              "      <td>0.0<\/td>\n",
              "      <td>0.0<\/td>\n",
              "      <td>0.0<\/td>\n",
              "      <td>0.0<\/td>\n",
              "      <td>0.0<\/td>\n",
              "      <td>0.0<\/td>\n",
              "      <td>0.0<\/td>\n",
              "      <td>0<\/td>\n",
              "    <\/tr>\n",
              "    <tr>\n",
              "      <th>2<\/th>\n",
              "      <td>72.0<\/td>\n",
              "      <td>1.0<\/td>\n",
              "      <td>156.409169<\/td>\n",
              "      <td>77.0<\/td>\n",
              "      <td>-6.0<\/td>\n",
              "      <td>1.0<\/td>\n",
              "      <td>1.0<\/td>\n",
              "      <td>0.0<\/td>\n",
              "      <td>0.0<\/td>\n",
              "      <td>3.0<\/td>\n",
              "      <td>0.0<\/td>\n",
              "      <td>1.0<\/td>\n",
              "      <td>0.0<\/td>\n",
              "      <td>0.0<\/td>\n",
              "      <td>0.0<\/td>\n",
              "      <td>1.0<\/td>\n",
              "      <td>0.0<\/td>\n",
              "      <td>0.0<\/td>\n",
              "      <td>0.0<\/td>\n",
              "      <td>0.0<\/td>\n",
              "      <td>1.0<\/td>\n",
              "      <td>0.0<\/td>\n",
              "      <td>0<\/td>\n",
              "    <\/tr>\n",
              "    <tr>\n",
              "      <th>3<\/th>\n",
              "      <td>86.0<\/td>\n",
              "      <td>0.0<\/td>\n",
              "      <td>170.435391<\/td>\n",
              "      <td>55.0<\/td>\n",
              "      <td>0.0<\/td>\n",
              "      <td>1.0<\/td>\n",
              "      <td>1.0<\/td>\n",
              "      <td>0.0<\/td>\n",
              "      <td>0.0<\/td>\n",
              "      <td>4.0<\/td>\n",
              "      <td>0.0<\/td>\n",
              "      <td>1.0<\/td>\n",
              "      <td>0.0<\/td>\n",
              "      <td>1.0<\/td>\n",
              "      <td>1.0<\/td>\n",
              "      <td>1.0<\/td>\n",
              "      <td>0.0<\/td>\n",
              "      <td>0.0<\/td>\n",
              "      <td>0.0<\/td>\n",
              "      <td>0.0<\/td>\n",
              "      <td>0.0<\/td>\n",
              "      <td>0.0<\/td>\n",
              "      <td>0<\/td>\n",
              "    <\/tr>\n",
              "    <tr>\n",
              "      <th>4<\/th>\n",
              "      <td>63.0<\/td>\n",
              "      <td>0.0<\/td>\n",
              "      <td>157.010455<\/td>\n",
              "      <td>70.0<\/td>\n",
              "      <td>0.0<\/td>\n",
              "      <td>0.0<\/td>\n",
              "      <td>0.0<\/td>\n",
              "      <td>0.0<\/td>\n",
              "      <td>0.0<\/td>\n",
              "      <td>1.0<\/td>\n",
              "      <td>0.0<\/td>\n",
              "      <td>0.0<\/td>\n",
              "      <td>0.0<\/td>\n",
              "      <td>0.0<\/td>\n",
              "      <td>1.0<\/td>\n",
              "      <td>0.0<\/td>\n",
              "      <td>0.0<\/td>\n",
              "      <td>0.0<\/td>\n",
              "      <td>0.0<\/td>\n",
              "      <td>0.0<\/td>\n",
              "      <td>0.0<\/td>\n",
              "      <td>0.0<\/td>\n",
              "      <td>0<\/td>\n",
              "    <\/tr>\n",
              "    <tr>\n",
              "      <th>7<\/th>\n",
              "      <td>40.0<\/td>\n",
              "      <td>1.0<\/td>\n",
              "      <td>161.263228<\/td>\n",
              "      <td>80.0<\/td>\n",
              "      <td>0.0<\/td>\n",
              "      <td>0.0<\/td>\n",
              "      <td>0.0<\/td>\n",
              "      <td>0.0<\/td>\n",
              "      <td>0.0<\/td>\n",
              "      <td>0.0<\/td>\n",
              "      <td>0.0<\/td>\n",
              "      <td>0.0<\/td>\n",
              "      <td>0.0<\/td>\n",
              "      <td>0.0<\/td>\n",
              "      <td>0.0<\/td>\n",
              "      <td>0.0<\/td>\n",
              "      <td>0.0<\/td>\n",
              "      <td>0.0<\/td>\n",
              "      <td>0.0<\/td>\n",
              "      <td>0.0<\/td>\n",
              "      <td>0.0<\/td>\n",
              "      <td>0.0<\/td>\n",
              "      <td>0<\/td>\n",
              "    <\/tr>\n",
              "    <tr>\n",
              "      <th>...<\/th>\n",
              "      <td>...<\/td>\n",
              "      <td>...<\/td>\n",
              "      <td>...<\/td>\n",
              "      <td>...<\/td>\n",
              "      <td>...<\/td>\n",
              "      <td>...<\/td>\n",
              "      <td>...<\/td>\n",
              "      <td>...<\/td>\n",
              "      <td>...<\/td>\n",
              "      <td>...<\/td>\n",
              "      <td>...<\/td>\n",
              "      <td>...<\/td>\n",
              "      <td>...<\/td>\n",
              "      <td>...<\/td>\n",
              "      <td>...<\/td>\n",
              "      <td>...<\/td>\n",
              "      <td>...<\/td>\n",
              "      <td>...<\/td>\n",
              "      <td>...<\/td>\n",
              "      <td>...<\/td>\n",
              "      <td>...<\/td>\n",
              "      <td>...<\/td>\n",
              "      <td>...<\/td>\n",
              "    <\/tr>\n",
              "    <tr>\n",
              "      <th>2885<\/th>\n",
              "      <td>37.0<\/td>\n",
              "      <td>1.0<\/td>\n",
              "      <td>175.387395<\/td>\n",
              "      <td>NaN<\/td>\n",
              "      <td>0.0<\/td>\n",
              "      <td>0.0<\/td>\n",
              "      <td>0.0<\/td>\n",
              "      <td>0.0<\/td>\n",
              "      <td>0.0<\/td>\n",
              "      <td>0.0<\/td>\n",
              "      <td>11.0<\/td>\n",
              "      <td>NaN<\/td>\n",
              "      <td>NaN<\/td>\n",
              "      <td>NaN<\/td>\n",
              "      <td>NaN<\/td>\n",
              "      <td>NaN<\/td>\n",
              "      <td>NaN<\/td>\n",
              "      <td>NaN<\/td>\n",
              "      <td>NaN<\/td>\n",
              "      <td>NaN<\/td>\n",
              "      <td>NaN<\/td>\n",
              "      <td>NaN<\/td>\n",
              "      <td>0<\/td>\n",
              "    <\/tr>\n",
              "    <tr>\n",
              "      <th>2886<\/th>\n",
              "      <td>79.0<\/td>\n",
              "      <td>0.0<\/td>\n",
              "      <td>177.144846<\/td>\n",
              "      <td>NaN<\/td>\n",
              "      <td>0.0<\/td>\n",
              "      <td>0.0<\/td>\n",
              "      <td>0.0<\/td>\n",
              "      <td>0.0<\/td>\n",
              "      <td>0.0<\/td>\n",
              "      <td>0.0<\/td>\n",
              "      <td>11.0<\/td>\n",
              "      <td>NaN<\/td>\n",
              "      <td>NaN<\/td>\n",
              "      <td>NaN<\/td>\n",
              "      <td>NaN<\/td>\n",
              "      <td>NaN<\/td>\n",
              "      <td>NaN<\/td>\n",
              "      <td>NaN<\/td>\n",
              "      <td>NaN<\/td>\n",
              "      <td>NaN<\/td>\n",
              "      <td>NaN<\/td>\n",
              "      <td>NaN<\/td>\n",
              "      <td>0<\/td>\n",
              "    <\/tr>\n",
              "    <tr>\n",
              "      <th>2887<\/th>\n",
              "      <td>73.0<\/td>\n",
              "      <td>1.0<\/td>\n",
              "      <td>162.341922<\/td>\n",
              "      <td>NaN<\/td>\n",
              "      <td>0.0<\/td>\n",
              "      <td>0.0<\/td>\n",
              "      <td>0.0<\/td>\n",
              "      <td>0.0<\/td>\n",
              "      <td>0.0<\/td>\n",
              "      <td>0.0<\/td>\n",
              "      <td>11.0<\/td>\n",
              "      <td>NaN<\/td>\n",
              "      <td>NaN<\/td>\n",
              "      <td>NaN<\/td>\n",
              "      <td>NaN<\/td>\n",
              "      <td>NaN<\/td>\n",
              "      <td>NaN<\/td>\n",
              "      <td>NaN<\/td>\n",
              "      <td>NaN<\/td>\n",
              "      <td>NaN<\/td>\n",
              "      <td>NaN<\/td>\n",
              "      <td>NaN<\/td>\n",
              "      <td>0<\/td>\n",
              "    <\/tr>\n",
              "    <tr>\n",
              "      <th>2888<\/th>\n",
              "      <td>31.0<\/td>\n",
              "      <td>0.0<\/td>\n",
              "      <td>155.711061<\/td>\n",
              "      <td>NaN<\/td>\n",
              "      <td>0.0<\/td>\n",
              "      <td>0.0<\/td>\n",
              "      <td>0.0<\/td>\n",
              "      <td>0.0<\/td>\n",
              "      <td>0.0<\/td>\n",
              "      <td>0.0<\/td>\n",
              "      <td>11.0<\/td>\n",
              "      <td>NaN<\/td>\n",
              "      <td>NaN<\/td>\n",
              "      <td>NaN<\/td>\n",
              "      <td>NaN<\/td>\n",
              "      <td>NaN<\/td>\n",
              "      <td>NaN<\/td>\n",
              "      <td>NaN<\/td>\n",
              "      <td>NaN<\/td>\n",
              "      <td>NaN<\/td>\n",
              "      <td>NaN<\/td>\n",
              "      <td>NaN<\/td>\n",
              "      <td>0<\/td>\n",
              "    <\/tr>\n",
              "    <tr>\n",
              "      <th>2889<\/th>\n",
              "      <td>82.0<\/td>\n",
              "      <td>0.0<\/td>\n",
              "      <td>165.895182<\/td>\n",
              "      <td>NaN<\/td>\n",
              "      <td>0.0<\/td>\n",
              "      <td>NaN<\/td>\n",
              "      <td>NaN<\/td>\n",
              "      <td>NaN<\/td>\n",
              "      <td>NaN<\/td>\n",
              "      <td>0.0<\/td>\n",
              "      <td>11.0<\/td>\n",
              "      <td>NaN<\/td>\n",
              "      <td>NaN<\/td>\n",
              "      <td>NaN<\/td>\n",
              "      <td>NaN<\/td>\n",
              "      <td>NaN<\/td>\n",
              "      <td>NaN<\/td>\n",
              "      <td>NaN<\/td>\n",
              "      <td>NaN<\/td>\n",
              "      <td>NaN<\/td>\n",
              "      <td>NaN<\/td>\n",
              "      <td>NaN<\/td>\n",
              "      <td>0<\/td>\n",
              "    <\/tr>\n",
              "  <\/tbody>\n",
              "<\/table>\n",
              "<p>2890 rows × 23 columns<\/p>\n",
              "<\/div>"
            ]
          },
          "metadata":{
            
          },
          "output_type":"display_data"
        }
      ],
      "metadata":{
        
      }
    },
    {
      "cell_type":"markdown",
      "source":[
        "Vzhledem ke všem přítomným kovariátům a sloupci *léčba* (TREATMENT), který indikuje, zda je subjekt léčený nebo kontrolní, bychom si přáli, mít kvatitativní způsob jak změřit, jestli jsou kovariáty mezi těmito dvěma skupinami vyvážené.\n",
        "\n",
        "Abychom tento rovznovážný stav posoudili, podívejme se na standardizované odchylky od průměru (standardized mean difference).\n",
        "\n",
        "$$ smd = \\frac{\\bar{X}_t - \\bar{X}_c}{\\sqrt{(s^2_t + s^2_c) \/ 2}} $$\n",
        "\n",
        "* $ \\bar{X}_t, \\bar{X}_c $ označuje střední hodnotu pro léčenou a kontrolní skupinu.\n",
        "* $ s^2_t, s^2_c $ označuje směrodatné odchyly\n",
        "\n",
        "Spočítáme SMD pro každý příznak. Pro určení, jestli je příznak vyvážený, nebo ne se použije násedující pravidlo:\n",
        "\n",
        "* SMD < 0.1 Ideální stav, hodnoty SMD pro randomizovanou studii by sem měly patřit.\n",
        "* SMD in (0.1-0.2) Hraniční stav, příznaky nejsou nutně nebalancované, budu je tedy v našem případě považovat za balancované.\n",
        "* SMD > 0.2 Vázně nebalancované"
      ],
      "metadata":{
        
      }
    },
    {
      "cell_type":"code",
      "source":[
        "features = new_df.columns.tolist()\n",
        "features.remove(TREATMENT)\n",
        "features.remove(NIHSS_DISCHARGE)\n",
        "\n",
        "agg_operations = {TREATMENT: 'count'}\n",
        "agg_operations.update({\n",
        "    feature: ['mean', 'std'] for feature in features\n",
        "})\n",
        "\n",
        "table_one = new_df.groupby(TREATMENT).agg(agg_operations)"
      ],
      "execution_count":0,
      "outputs":[
        
      ],
      "metadata":{
        
      }
    },
    {
      "cell_type":"code",
      "source":[
        "def compute_table_one_smd(table_one: pd.DataFrame, round_digits: int=4) -> pd.DataFrame:\n",
        "    feature_smds = []\n",
        "    for feature in features:\n",
        "        feature_table_one = table_one[feature].values\n",
        "        neg_mean = feature_table_one[0, 0]\n",
        "        neg_std = feature_table_one[0, 1]\n",
        "        pos_mean = feature_table_one[1, 0]\n",
        "        pos_std = feature_table_one[1, 1]\n",
        "\n",
        "        smd = (pos_mean - neg_mean) \/ np.sqrt((pos_std ** 2 + neg_std ** 2) \/ 2)\n",
        "        smd = round(abs(smd), round_digits)\n",
        "        feature_smds.append(smd)\n",
        "\n",
        "    return pd.DataFrame({'features': features, 'smd': feature_smds})"
      ],
      "execution_count":0,
      "outputs":[
        
      ],
      "metadata":{
        
      }
    },
    {
      "cell_type":"code",
      "source":[
        "table_one_smd = compute_table_one_smd(table_one)\n",
        "table_one_smd"
      ],
      "execution_count":0,
      "outputs":[
        {
          "data":{
            "text\/html":[
              "<div>\n",
              "<style scoped>\n",
              "    .dataframe tbody tr th:only-of-type {\n",
              "        vertical-align: middle;\n",
              "    }\n",
              "\n",
              "    .dataframe tbody tr th {\n",
              "        vertical-align: top;\n",
              "    }\n",
              "\n",
              "    .dataframe thead th {\n",
              "        text-align: right;\n",
              "    }\n",
              "<\/style>\n",
              "<table border=\"1\" class=\"dataframe\">\n",
              "  <thead>\n",
              "    <tr style=\"text-align: right;\">\n",
              "      <th><\/th>\n",
              "      <th>features<\/th>\n",
              "      <th>smd<\/th>\n",
              "    <\/tr>\n",
              "  <\/thead>\n",
              "  <tbody>\n",
              "    <tr>\n",
              "      <th>0<\/th>\n",
              "      <td>age<\/td>\n",
              "      <td>0.0213<\/td>\n",
              "    <\/tr>\n",
              "    <tr>\n",
              "      <th>1<\/th>\n",
              "      <td>sex<\/td>\n",
              "      <td>0.0462<\/td>\n",
              "    <\/tr>\n",
              "    <tr>\n",
              "      <th>2<\/th>\n",
              "      <td>heightvalue<\/td>\n",
              "      <td>0.1415<\/td>\n",
              "    <\/tr>\n",
              "    <tr>\n",
              "      <th>3<\/th>\n",
              "      <td>weight<\/td>\n",
              "      <td>0.3387<\/td>\n",
              "    <\/tr>\n",
              "    <tr>\n",
              "      <th>4<\/th>\n",
              "      <td>involvedVascularTerritorryArterior<\/td>\n",
              "      <td>0.6968<\/td>\n",
              "    <\/tr>\n",
              "    <tr>\n",
              "      <th>5<\/th>\n",
              "      <td>involvedVascularTerritorryLeft<\/td>\n",
              "      <td>0.2758<\/td>\n",
              "    <\/tr>\n",
              "    <tr>\n",
              "      <th>6<\/th>\n",
              "      <td>involvedVascularTerritorryPosterior<\/td>\n",
              "      <td>0.0709<\/td>\n",
              "    <\/tr>\n",
              "    <tr>\n",
              "      <th>7<\/th>\n",
              "      <td>involvedVascularTerritorryRight<\/td>\n",
              "      <td>0.4154<\/td>\n",
              "    <\/tr>\n",
              "    <tr>\n",
              "      <th>8<\/th>\n",
              "      <td>RiskFactorsCount<\/td>\n",
              "      <td>0.3208<\/td>\n",
              "    <\/tr>\n",
              "    <tr>\n",
              "      <th>9<\/th>\n",
              "      <td>RiskFactorsUnknown<\/td>\n",
              "      <td>0.7136<\/td>\n",
              "    <\/tr>\n",
              "    <tr>\n",
              "      <th>10<\/th>\n",
              "      <td>atrialFibrilation<\/td>\n",
              "      <td>0.2100<\/td>\n",
              "    <\/tr>\n",
              "    <tr>\n",
              "      <th>11<\/th>\n",
              "      <td>congestiveHeartFailure<\/td>\n",
              "      <td>0.0618<\/td>\n",
              "    <\/tr>\n",
              "    <tr>\n",
              "      <th>12<\/th>\n",
              "      <td>diabetes<\/td>\n",
              "      <td>0.0551<\/td>\n",
              "    <\/tr>\n",
              "    <tr>\n",
              "      <th>13<\/th>\n",
              "      <td>hyperlipidemia<\/td>\n",
              "      <td>0.0464<\/td>\n",
              "    <\/tr>\n",
              "    <tr>\n",
              "      <th>14<\/th>\n",
              "      <td>hypertension<\/td>\n",
              "      <td>0.0662<\/td>\n",
              "    <\/tr>\n",
              "    <tr>\n",
              "      <th>15<\/th>\n",
              "      <td>previousStrokeEarlierThan3M<\/td>\n",
              "      <td>0.0500<\/td>\n",
              "    <\/tr>\n",
              "    <tr>\n",
              "      <th>16<\/th>\n",
              "      <td>previousStrokeWithin3M<\/td>\n",
              "      <td>0.2992<\/td>\n",
              "    <\/tr>\n",
              "    <tr>\n",
              "      <th>17<\/th>\n",
              "      <td>previousTIAOrAmaurosis<\/td>\n",
              "      <td>0.0925<\/td>\n",
              "    <\/tr>\n",
              "    <tr>\n",
              "      <th>18<\/th>\n",
              "      <td>smokerCurrent<\/td>\n",
              "      <td>0.0849<\/td>\n",
              "    <\/tr>\n",
              "    <tr>\n",
              "      <th>19<\/th>\n",
              "      <td>smokerPrevious<\/td>\n",
              "      <td>0.1952<\/td>\n",
              "    <\/tr>\n",
              "    <tr>\n",
              "      <th>20<\/th>\n",
              "      <td>vascularDisease<\/td>\n",
              "      <td>0.0677<\/td>\n",
              "    <\/tr>\n",
              "  <\/tbody>\n",
              "<\/table>\n",
              "<\/div>"
            ]
          },
          "metadata":{
            
          },
          "output_type":"display_data"
        }
      ],
      "metadata":{
        
      }
    },
    {
      "cell_type":"code",
      "source":[
        "from sklearn.compose import ColumnTransformer\n",
        "from sklearn.preprocessing import StandardScaler\n",
        "\n",
        "num_cols = [AGE, HEIGHT, WEIGHT]\n",
        "\n",
        "# treatment will be our label for estimating the propensity score,\n",
        "# and death is the outcome that we care about, thus is also removed\n",
        "# from the step that is estimating the propensity score\n",
        "death = new_df[NIHSS_DISCHARGE]\n",
        "treatment = new_df[TREATMENT]\n",
        "df_cleaned = new_df.drop([NIHSS_DISCHARGE, TREATMENT], axis=1)\n",
        "\n",
        "# df_cleaned.replace(np.nan, 0)\n",
        "\n",
        "column_transformer = ColumnTransformer(\n",
        "    [('numerical', StandardScaler(), num_cols)],\n",
        "    sparse_threshold=0,\n",
        "    remainder='passthrough'\n",
        ")\n",
        "data = column_transformer.fit_transform(df_cleaned)\n",
        "data.shape"
      ],
      "execution_count":0,
      "outputs":[
        {
          "data":{
            "text\/plain":[
              "(2890, 21)"
            ]
          },
          "metadata":{
            
          },
          "output_type":"display_data"
        }
      ],
      "metadata":{
        
      }
    },
    {
      "cell_type":"code",
      "source":[
        "data[np.isnan(data)] = 0\n",
        "data"
      ],
      "execution_count":0,
      "outputs":[
        {
          "data":{
            "text\/plain":[
              "array([[-0.74804347,  1.55310841,  0.36471539, ...,  0.        ,  0.        ,  0.        ],\n",
              "       [ 0.21992263, -1.44385157, -0.31458402, ...,  0.        ,  1.        ,  0.        ],\n",
              "       [ 1.12335766, -0.01150589, -1.55996628, ...,  0.        ,  0.        ,  0.        ],\n",
              "       ...,\n",
              "       [ 0.2844537 , -0.83800392,  0.        , ...,  0.        ,  0.        ,  0.        ],\n",
              "       [-2.42585137, -1.51514172,  0.        , ...,  0.        ,  0.        ,  0.        ],\n",
              "       [ 0.86523336, -0.47514809,  0.        , ...,  0.        ,  0.        ,  0.        ]])"
            ]
          },
          "metadata":{
            
          },
          "output_type":"display_data"
        }
      ],
      "metadata":{
        
      }
    },
    {
      "cell_type":"code",
      "source":[
        "from sklearn.linear_model import LogisticRegression\n",
        "\n",
        "logistic = LogisticRegression(solver='liblinear')\n",
        "logistic.fit(data, treatment)"
      ],
      "execution_count":0,
      "outputs":[
        {
          "data":{
            "text\/plain":[
              "LogisticRegression(solver='liblinear')"
            ]
          },
          "metadata":{
            
          },
          "output_type":"display_data"
        }
      ],
      "metadata":{
        
      }
    },
    {
      "cell_type":"code",
      "source":[
        "pscore = logistic.predict_proba(data)[:, 1]\n",
        "pscore"
      ],
      "execution_count":0,
      "outputs":[
        {
          "data":{
            "text\/plain":[
              "array([0.29574548, 0.12197148, 0.13486686, ..., 0.00740921, 0.01709091, 0.00695085])"
            ]
          },
          "metadata":{
            
          },
          "output_type":"display_data"
        }
      ],
      "metadata":{
        
      }
    },
    {
      "cell_type":"code",
      "source":[
        "from sklearn.metrics import roc_auc_score\n",
        "\n",
        "roc_auc_score(treatment, pscore)"
      ],
      "execution_count":0,
      "outputs":[
        {
          "data":{
            "text\/plain":[
              "0.7661934540109128"
            ]
          },
          "metadata":{
            
          },
          "output_type":"display_data"
        }
      ],
      "metadata":{
        
      }
    },
    {
      "cell_type":"code",
      "source":[
        "mask = treatment == 1\n",
        "\n",
        "pos_pscore = pscore[mask]\n",
        "neg_pscore = pscore[~mask]\n",
        "print('treatment count:', pos_pscore.shape)\n",
        "print('control count:', neg_pscore.shape)"
      ],
      "execution_count":0,
      "outputs":[
        {
          "name":"stdout",
          "text":[
            "treatment count: (327,)\n",
            "control count: (2563,)\n"
          ],
          "output_type":"stream"
        }
      ],
      "metadata":{
        
      }
    },
    {
      "cell_type":"code",
      "source":[
        "import seaborn as sns\n",
        "\n",
        "# change default style figure and font size\n",
        "plt.rcParams['figure.figsize'] = 8, 6\n",
        "plt.rcParams['font.size'] = 12\n",
        "\n",
        "ax = sns.distplot(neg_pscore, label='control')\n",
        "ax = sns.distplot(pos_pscore, label='treatment')\n",
        "plt.xlim(0, 1)\n",
        "plt.title('Propensity Score Distribution of Control vs Treatment')\n",
        "plt.ylabel('Density')\n",
        "plt.xlabel('Scores')\n",
        "plt.legend()\n",
        "plt.tight_layout()\n",
        "plt.show()"
      ],
      "execution_count":0,
      "outputs":[
        {
          "name":"stderr",
          "text":[
            "\/opt\/anaconda3\/envs\/datalore-user\/lib\/python3.7\/site-packages\/seaborn\/distributions.py:2551: FutureWarning: `distplot` is a deprecated function and will be removed in a future version. Please adapt your code to use either `displot` (a figure-level function with similar flexibility) or `histplot` (an axes-level function for histograms).\n",
            "  warnings.warn(msg, FutureWarning)\n",
            "\/opt\/anaconda3\/envs\/datalore-user\/lib\/python3.7\/site-packages\/seaborn\/distributions.py:2551: FutureWarning: `distplot` is a deprecated function and will be removed in a future version. Please adapt your code to use either `displot` (a figure-level function with similar flexibility) or `histplot` (an axes-level function for histograms).\n",
            "  warnings.warn(msg, FutureWarning)\n"
          ],
          "output_type":"stream"
        },
        {
          "data":{
            "image\/png":"[encoded data removed]"
          },
          "metadata":{
            "image\/png":{
              "width":0,
              "height":0
            }
          },
          "output_type":"display_data"
        }
      ],
      "metadata":{
        
      }
    },
    {
      "cell_type":"code",
      "source":[
        "from sklearn.neighbors import NearestNeighbors\n",
        "\n",
        "def get_similar(pos_pscore: np.ndarray, neg_pscore: np.ndarray, topn: int=5, n_jobs: int=1):\n",
        "    knn = NearestNeighbors(n_neighbors=topn + 1, metric='euclidean', n_jobs=n_jobs)\n",
        "    knn.fit(neg_pscore.reshape(-1, 1))\n",
        "\n",
        "    distances, indices = knn.kneighbors(pos_pscore.reshape(-1, 1))\n",
        "    sim_distances = distances[:, 1:]\n",
        "    sim_indices = indices[:, 1:]\n",
        "    return sim_distances, sim_indices"
      ],
      "execution_count":0,
      "outputs":[
        
      ],
      "metadata":{
        
      }
    },
    {
      "cell_type":"code",
      "source":[
        "sim_distances, sim_indices = get_similar(pos_pscore, neg_pscore, topn=1)\n",
        "# sim_indices"
      ],
      "execution_count":0,
      "outputs":[
        
      ],
      "metadata":{
        
      }
    },
    {
      "cell_type":"code",
      "source":[
        "_, counts = np.unique(sim_indices[:, 0], return_counts=True)\n",
        "np.bincount(counts)"
      ],
      "execution_count":0,
      "outputs":[
        {
          "data":{
            "text\/plain":[
              "array([  0, 213,  36,   7,   4,   1])"
            ]
          },
          "metadata":{
            
          },
          "output_type":"display_data"
        }
      ],
      "metadata":{
        
      }
    },
    {
      "cell_type":"code",
      "source":[
        "df_cleaned[TREATMENT] = treatment\n",
        "df_cleaned[NIHSS_DISCHARGE] = death\n",
        "df_pos = df_cleaned[mask]\n",
        "df_neg = df_cleaned[~mask].iloc[sim_indices[:, 0]]\n",
        "df_matched = pd.concat([df_pos, df_neg], axis=0)\n",
        "df_matched.head()"
      ],
      "execution_count":0,
      "outputs":[
        {
          "data":{
            "text\/html":[
              "<div>\n",
              "<style scoped>\n",
              "    .dataframe tbody tr th:only-of-type {\n",
              "        vertical-align: middle;\n",
              "    }\n",
              "\n",
              "    .dataframe tbody tr th {\n",
              "        vertical-align: top;\n",
              "    }\n",
              "\n",
              "    .dataframe thead th {\n",
              "        text-align: right;\n",
              "    }\n",
              "<\/style>\n",
              "<table border=\"1\" class=\"dataframe\">\n",
              "  <thead>\n",
              "    <tr style=\"text-align: right;\">\n",
              "      <th><\/th>\n",
              "      <th>age<\/th>\n",
              "      <th>sex<\/th>\n",
              "      <th>heightvalue<\/th>\n",
              "      <th>weight<\/th>\n",
              "      <th>involvedVascularTerritorryArterior<\/th>\n",
              "      <th>involvedVascularTerritorryLeft<\/th>\n",
              "      <th>involvedVascularTerritorryPosterior<\/th>\n",
              "      <th>involvedVascularTerritorryRight<\/th>\n",
              "      <th>RiskFactorsCount<\/th>\n",
              "      <th>RiskFactorsUnknown<\/th>\n",
              "      <th>atrialFibrilation<\/th>\n",
              "      <th>congestiveHeartFailure<\/th>\n",
              "      <th>diabetes<\/th>\n",
              "      <th>hyperlipidemia<\/th>\n",
              "      <th>hypertension<\/th>\n",
              "      <th>previousStrokeEarlierThan3M<\/th>\n",
              "      <th>previousStrokeWithin3M<\/th>\n",
              "      <th>previousTIAOrAmaurosis<\/th>\n",
              "      <th>smokerCurrent<\/th>\n",
              "      <th>smokerPrevious<\/th>\n",
              "      <th>vascularDisease<\/th>\n",
              "      <th>treatment<\/th>\n",
              "      <th>NIHSS-diff-discharge<\/th>\n",
              "    <\/tr>\n",
              "  <\/thead>\n",
              "  <tbody>\n",
              "    <tr>\n",
              "      <th>33<\/th>\n",
              "      <td>77.0<\/td>\n",
              "      <td>0.0<\/td>\n",
              "      <td>170.000000<\/td>\n",
              "      <td>90.0<\/td>\n",
              "      <td>0.0<\/td>\n",
              "      <td>0.0<\/td>\n",
              "      <td>0.0<\/td>\n",
              "      <td>0.0<\/td>\n",
              "      <td>1.0<\/td>\n",
              "      <td>0.0<\/td>\n",
              "      <td>0.0<\/td>\n",
              "      <td>0.0<\/td>\n",
              "      <td>0.0<\/td>\n",
              "      <td>0.0<\/td>\n",
              "      <td>1.0<\/td>\n",
              "      <td>0.0<\/td>\n",
              "      <td>0.0<\/td>\n",
              "      <td>0.0<\/td>\n",
              "      <td>0.0<\/td>\n",
              "      <td>0.0<\/td>\n",
              "      <td>0.0<\/td>\n",
              "      <td>1<\/td>\n",
              "      <td>0.0<\/td>\n",
              "    <\/tr>\n",
              "    <tr>\n",
              "      <th>49<\/th>\n",
              "      <td>53.0<\/td>\n",
              "      <td>1.0<\/td>\n",
              "      <td>180.000000<\/td>\n",
              "      <td>100.0<\/td>\n",
              "      <td>1.0<\/td>\n",
              "      <td>1.0<\/td>\n",
              "      <td>0.0<\/td>\n",
              "      <td>0.0<\/td>\n",
              "      <td>1.0<\/td>\n",
              "      <td>0.0<\/td>\n",
              "      <td>0.0<\/td>\n",
              "      <td>0.0<\/td>\n",
              "      <td>0.0<\/td>\n",
              "      <td>0.0<\/td>\n",
              "      <td>0.0<\/td>\n",
              "      <td>0.0<\/td>\n",
              "      <td>0.0<\/td>\n",
              "      <td>0.0<\/td>\n",
              "      <td>0.0<\/td>\n",
              "      <td>0.0<\/td>\n",
              "      <td>1.0<\/td>\n",
              "      <td>1<\/td>\n",
              "      <td>0.0<\/td>\n",
              "    <\/tr>\n",
              "    <tr>\n",
              "      <th>110<\/th>\n",
              "      <td>88.0<\/td>\n",
              "      <td>1.0<\/td>\n",
              "      <td>153.060849<\/td>\n",
              "      <td>90.0<\/td>\n",
              "      <td>0.0<\/td>\n",
              "      <td>0.0<\/td>\n",
              "      <td>0.0<\/td>\n",
              "      <td>0.0<\/td>\n",
              "      <td>3.0<\/td>\n",
              "      <td>0.0<\/td>\n",
              "      <td>1.0<\/td>\n",
              "      <td>0.0<\/td>\n",
              "      <td>0.0<\/td>\n",
              "      <td>1.0<\/td>\n",
              "      <td>1.0<\/td>\n",
              "      <td>0.0<\/td>\n",
              "      <td>0.0<\/td>\n",
              "      <td>0.0<\/td>\n",
              "      <td>0.0<\/td>\n",
              "      <td>0.0<\/td>\n",
              "      <td>0.0<\/td>\n",
              "      <td>1<\/td>\n",
              "      <td>0.0<\/td>\n",
              "    <\/tr>\n",
              "    <tr>\n",
              "      <th>127<\/th>\n",
              "      <td>49.0<\/td>\n",
              "      <td>1.0<\/td>\n",
              "      <td>173.064480<\/td>\n",
              "      <td>NaN<\/td>\n",
              "      <td>1.0<\/td>\n",
              "      <td>1.0<\/td>\n",
              "      <td>0.0<\/td>\n",
              "      <td>0.0<\/td>\n",
              "      <td>2.0<\/td>\n",
              "      <td>0.0<\/td>\n",
              "      <td>0.0<\/td>\n",
              "      <td>0.0<\/td>\n",
              "      <td>0.0<\/td>\n",
              "      <td>0.0<\/td>\n",
              "      <td>1.0<\/td>\n",
              "      <td>0.0<\/td>\n",
              "      <td>0.0<\/td>\n",
              "      <td>0.0<\/td>\n",
              "      <td>0.0<\/td>\n",
              "      <td>1.0<\/td>\n",
              "      <td>0.0<\/td>\n",
              "      <td>1<\/td>\n",
              "      <td>-10.0<\/td>\n",
              "    <\/tr>\n",
              "    <tr>\n",
              "      <th>143<\/th>\n",
              "      <td>84.0<\/td>\n",
              "      <td>0.0<\/td>\n",
              "      <td>170.626045<\/td>\n",
              "      <td>NaN<\/td>\n",
              "      <td>1.0<\/td>\n",
              "      <td>0.0<\/td>\n",
              "      <td>0.0<\/td>\n",
              "      <td>1.0<\/td>\n",
              "      <td>4.0<\/td>\n",
              "      <td>0.0<\/td>\n",
              "      <td>0.0<\/td>\n",
              "      <td>0.0<\/td>\n",
              "      <td>0.0<\/td>\n",
              "      <td>1.0<\/td>\n",
              "      <td>1.0<\/td>\n",
              "      <td>0.0<\/td>\n",
              "      <td>1.0<\/td>\n",
              "      <td>0.0<\/td>\n",
              "      <td>0.0<\/td>\n",
              "      <td>0.0<\/td>\n",
              "      <td>1.0<\/td>\n",
              "      <td>1<\/td>\n",
              "      <td>-6.0<\/td>\n",
              "    <\/tr>\n",
              "  <\/tbody>\n",
              "<\/table>\n",
              "<\/div>"
            ]
          },
          "metadata":{
            
          },
          "output_type":"display_data"
        }
      ],
      "metadata":{
        
      }
    },
    {
      "cell_type":"code",
      "source":[
        "table_one_matched = df_matched.groupby(TREATMENT).agg(agg_operations)\n",
        "table_one_smd_matched = compute_table_one_smd(table_one_matched)\n",
        "table_one_smd_matched"
      ],
      "execution_count":0,
      "outputs":[
        {
          "data":{
            "text\/html":[
              "<div>\n",
              "<style scoped>\n",
              "    .dataframe tbody tr th:only-of-type {\n",
              "        vertical-align: middle;\n",
              "    }\n",
              "\n",
              "    .dataframe tbody tr th {\n",
              "        vertical-align: top;\n",
              "    }\n",
              "\n",
              "    .dataframe thead th {\n",
              "        text-align: right;\n",
              "    }\n",
              "<\/style>\n",
              "<table border=\"1\" class=\"dataframe\">\n",
              "  <thead>\n",
              "    <tr style=\"text-align: right;\">\n",
              "      <th><\/th>\n",
              "      <th>features<\/th>\n",
              "      <th>smd<\/th>\n",
              "    <\/tr>\n",
              "  <\/thead>\n",
              "  <tbody>\n",
              "    <tr>\n",
              "      <th>0<\/th>\n",
              "      <td>age<\/td>\n",
              "      <td>0.0484<\/td>\n",
              "    <\/tr>\n",
              "    <tr>\n",
              "      <th>1<\/th>\n",
              "      <td>sex<\/td>\n",
              "      <td>0.1009<\/td>\n",
              "    <\/tr>\n",
              "    <tr>\n",
              "      <th>2<\/th>\n",
              "      <td>heightvalue<\/td>\n",
              "      <td>0.0668<\/td>\n",
              "    <\/tr>\n",
              "    <tr>\n",
              "      <th>3<\/th>\n",
              "      <td>weight<\/td>\n",
              "      <td>0.0027<\/td>\n",
              "    <\/tr>\n",
              "    <tr>\n",
              "      <th>4<\/th>\n",
              "      <td>involvedVascularTerritorryArterior<\/td>\n",
              "      <td>0.0064<\/td>\n",
              "    <\/tr>\n",
              "    <tr>\n",
              "      <th>5<\/th>\n",
              "      <td>involvedVascularTerritorryLeft<\/td>\n",
              "      <td>0.0477<\/td>\n",
              "    <\/tr>\n",
              "    <tr>\n",
              "      <th>6<\/th>\n",
              "      <td>involvedVascularTerritorryPosterior<\/td>\n",
              "      <td>0.0270<\/td>\n",
              "    <\/tr>\n",
              "    <tr>\n",
              "      <th>7<\/th>\n",
              "      <td>involvedVascularTerritorryRight<\/td>\n",
              "      <td>0.0429<\/td>\n",
              "    <\/tr>\n",
              "    <tr>\n",
              "      <th>8<\/th>\n",
              "      <td>RiskFactorsCount<\/td>\n",
              "      <td>0.0411<\/td>\n",
              "    <\/tr>\n",
              "    <tr>\n",
              "      <th>9<\/th>\n",
              "      <td>RiskFactorsUnknown<\/td>\n",
              "      <td>0.0503<\/td>\n",
              "    <\/tr>\n",
              "    <tr>\n",
              "      <th>10<\/th>\n",
              "      <td>atrialFibrilation<\/td>\n",
              "      <td>0.0770<\/td>\n",
              "    <\/tr>\n",
              "    <tr>\n",
              "      <th>11<\/th>\n",
              "      <td>congestiveHeartFailure<\/td>\n",
              "      <td>0.0234<\/td>\n",
              "    <\/tr>\n",
              "    <tr>\n",
              "      <th>12<\/th>\n",
              "      <td>diabetes<\/td>\n",
              "      <td>0.0058<\/td>\n",
              "    <\/tr>\n",
              "    <tr>\n",
              "      <th>13<\/th>\n",
              "      <td>hyperlipidemia<\/td>\n",
              "      <td>0.1064<\/td>\n",
              "    <\/tr>\n",
              "    <tr>\n",
              "      <th>14<\/th>\n",
              "      <td>hypertension<\/td>\n",
              "      <td>0.1326<\/td>\n",
              "    <\/tr>\n",
              "    <tr>\n",
              "      <th>15<\/th>\n",
              "      <td>previousStrokeEarlierThan3M<\/td>\n",
              "      <td>0.0130<\/td>\n",
              "    <\/tr>\n",
              "    <tr>\n",
              "      <th>16<\/th>\n",
              "      <td>previousStrokeWithin3M<\/td>\n",
              "      <td>0.0561<\/td>\n",
              "    <\/tr>\n",
              "    <tr>\n",
              "      <th>17<\/th>\n",
              "      <td>previousTIAOrAmaurosis<\/td>\n",
              "      <td>0.0118<\/td>\n",
              "    <\/tr>\n",
              "    <tr>\n",
              "      <th>18<\/th>\n",
              "      <td>smokerCurrent<\/td>\n",
              "      <td>0.0085<\/td>\n",
              "    <\/tr>\n",
              "    <tr>\n",
              "      <th>19<\/th>\n",
              "      <td>smokerPrevious<\/td>\n",
              "      <td>0.0494<\/td>\n",
              "    <\/tr>\n",
              "    <tr>\n",
              "      <th>20<\/th>\n",
              "      <td>vascularDisease<\/td>\n",
              "      <td>0.1512<\/td>\n",
              "    <\/tr>\n",
              "  <\/tbody>\n",
              "<\/table>\n",
              "<\/div>"
            ]
          },
          "metadata":{
            
          },
          "output_type":"display_data"
        }
      ],
      "metadata":{
        
      }
    },
    {
      "cell_type":"code",
      "source":[
        "df_pos[NIHSS_DISCHARGE].mean()"
      ],
      "execution_count":0,
      "outputs":[
        {
          "data":{
            "text\/plain":[
              "-3.6483180428134556"
            ]
          },
          "metadata":{
            
          },
          "output_type":"display_data"
        }
      ],
      "metadata":{
        
      }
    },
    {
      "cell_type":"code",
      "source":[
        "df_neg[NIHSS_DISCHARGE].mean()"
      ],
      "execution_count":0,
      "outputs":[
        {
          "data":{
            "text\/plain":[
              "-2.3363914373088686"
            ]
          },
          "metadata":{
            
          },
          "output_type":"display_data"
        }
      ],
      "metadata":{
        
      }
    },
    {
      "cell_type":"code",
      "source":[
        "from scipy.stats import stats\n",
        "\n",
        "num_matched_pairs = df_neg.shape[0]\n",
        "print('number of matched pairs: ', num_matched_pairs)\n",
        "\n",
        "# pair t-test\n",
        "stats.ttest_rel(df_pos[NIHSS_DISCHARGE].values, df_neg[NIHSS_DISCHARGE].values)"
      ],
      "execution_count":0,
      "outputs":[
        {
          "name":"stdout",
          "text":[
            "number of matched pairs:  327\n"
          ],
          "output_type":"stream"
        },
        {
          "data":{
            "text\/plain":[
              "Ttest_relResult(statistic=-3.04132727969905, pvalue=0.002546422157088463)"
            ]
          },
          "metadata":{
            
          },
          "output_type":"display_data"
        }
      ],
      "metadata":{
        
      }
    },
    {
      "cell_type":"markdown",
      "source":[
        "### Hypotéza: pacienti ve věku do 65 let "
      ],
      "metadata":{
        
      }
    },
    {
      "cell_type":"code",
      "source":[
        "import numpy as np\n",
        "\n",
        "# Merge Data Frames back into 'df' variable\n",
        "# df = pd.concat([trombectomyGroup, trombolysisGroup, bridgeGroup, noTreatmentGroup])\n",
        "df = pd.concat([trombolysisGroup, trombectomyGroup, bridgeGroup])\n",
        "\n",
        "# df['bridge'] = np.where(df.thrombectomyDone == 1 & df.thrombolysisIV == 1, 1, 0)\n",
        "\n",
        "new_df = df.filter(GEN_LIST + DIAG_LIST, axis=1)\n",
        "\n",
        "new_df[NIHSS_DISCHARGE] = df[NIHSS_DISCHARGE].fillna(0)\n",
        "# new_df[NIHSS_DISCHARGE] = new_df[NIHSS] + new_df[NIHSS_DISCHARGE]\n",
        "\n",
        "print('Number of rows: {}'.format(new_df.shape[0]))\n",
        "\n",
        "new_df[HEIGHT] = fillNaN_with_unifrand(new_df[HEIGHT])\n",
        "\n",
        "new_df[TREATMENT] = np.where(new_df.age >= 65, 1, 0)"
      ],
      "execution_count":0,
      "outputs":[
        {
          "name":"stdout",
          "text":[
            "Number of rows: 1578\n"
          ],
          "output_type":"stream"
        }
      ],
      "metadata":{
        
      }
    },
    {
      "cell_type":"code",
      "source":[
        "features = new_df.columns.tolist()\n",
        "features.remove(AGE)\n",
        "features.remove(TREATMENT)\n",
        "features.remove(NIHSS_DISCHARGE)\n",
        "\n",
        "agg_operations = {TREATMENT: 'count'}\n",
        "agg_operations.update({\n",
        "    feature: ['mean', 'std'] for feature in features\n",
        "})\n",
        "\n",
        "table_one = new_df.groupby(TREATMENT).agg(agg_operations)"
      ],
      "execution_count":0,
      "outputs":[
        
      ],
      "metadata":{
        
      }
    },
    {
      "cell_type":"code",
      "source":[
        "table_one_smd = compute_table_one_smd(table_one)\n",
        "table_one_smd"
      ],
      "execution_count":0,
      "outputs":[
        {
          "data":{
            "text\/html":[
              "<div>\n",
              "<style scoped>\n",
              "    .dataframe tbody tr th:only-of-type {\n",
              "        vertical-align: middle;\n",
              "    }\n",
              "\n",
              "    .dataframe tbody tr th {\n",
              "        vertical-align: top;\n",
              "    }\n",
              "\n",
              "    .dataframe thead th {\n",
              "        text-align: right;\n",
              "    }\n",
              "<\/style>\n",
              "<table border=\"1\" class=\"dataframe\">\n",
              "  <thead>\n",
              "    <tr style=\"text-align: right;\">\n",
              "      <th><\/th>\n",
              "      <th>features<\/th>\n",
              "      <th>smd<\/th>\n",
              "    <\/tr>\n",
              "  <\/thead>\n",
              "  <tbody>\n",
              "    <tr>\n",
              "      <th>0<\/th>\n",
              "      <td>sex<\/td>\n",
              "      <td>0.2780<\/td>\n",
              "    <\/tr>\n",
              "    <tr>\n",
              "      <th>1<\/th>\n",
              "      <td>heightvalue<\/td>\n",
              "      <td>0.1275<\/td>\n",
              "    <\/tr>\n",
              "    <tr>\n",
              "      <th>2<\/th>\n",
              "      <td>weight<\/td>\n",
              "      <td>0.4668<\/td>\n",
              "    <\/tr>\n",
              "    <tr>\n",
              "      <th>3<\/th>\n",
              "      <td>involvedVascularTerritorryArterior<\/td>\n",
              "      <td>0.1660<\/td>\n",
              "    <\/tr>\n",
              "    <tr>\n",
              "      <th>4<\/th>\n",
              "      <td>involvedVascularTerritorryLeft<\/td>\n",
              "      <td>0.0572<\/td>\n",
              "    <\/tr>\n",
              "    <tr>\n",
              "      <th>5<\/th>\n",
              "      <td>involvedVascularTerritorryPosterior<\/td>\n",
              "      <td>0.1935<\/td>\n",
              "    <\/tr>\n",
              "    <tr>\n",
              "      <th>6<\/th>\n",
              "      <td>involvedVascularTerritorryRight<\/td>\n",
              "      <td>0.0864<\/td>\n",
              "    <\/tr>\n",
              "    <tr>\n",
              "      <th>7<\/th>\n",
              "      <td>RiskFactorsCount<\/td>\n",
              "      <td>0.6485<\/td>\n",
              "    <\/tr>\n",
              "    <tr>\n",
              "      <th>8<\/th>\n",
              "      <td>RiskFactorsUnknown<\/td>\n",
              "      <td>0.0443<\/td>\n",
              "    <\/tr>\n",
              "    <tr>\n",
              "      <th>9<\/th>\n",
              "      <td>atrialFibrilation<\/td>\n",
              "      <td>0.5784<\/td>\n",
              "    <\/tr>\n",
              "    <tr>\n",
              "      <th>10<\/th>\n",
              "      <td>congestiveHeartFailure<\/td>\n",
              "      <td>0.3735<\/td>\n",
              "    <\/tr>\n",
              "    <tr>\n",
              "      <th>11<\/th>\n",
              "      <td>diabetes<\/td>\n",
              "      <td>0.3676<\/td>\n",
              "    <\/tr>\n",
              "    <tr>\n",
              "      <th>12<\/th>\n",
              "      <td>hyperlipidemia<\/td>\n",
              "      <td>0.4155<\/td>\n",
              "    <\/tr>\n",
              "    <tr>\n",
              "      <th>13<\/th>\n",
              "      <td>hypertension<\/td>\n",
              "      <td>0.7261<\/td>\n",
              "    <\/tr>\n",
              "    <tr>\n",
              "      <th>14<\/th>\n",
              "      <td>previousStrokeEarlierThan3M<\/td>\n",
              "      <td>0.0512<\/td>\n",
              "    <\/tr>\n",
              "    <tr>\n",
              "      <th>15<\/th>\n",
              "      <td>previousStrokeWithin3M<\/td>\n",
              "      <td>0.2349<\/td>\n",
              "    <\/tr>\n",
              "    <tr>\n",
              "      <th>16<\/th>\n",
              "      <td>previousTIAOrAmaurosis<\/td>\n",
              "      <td>0.0843<\/td>\n",
              "    <\/tr>\n",
              "    <tr>\n",
              "      <th>17<\/th>\n",
              "      <td>smokerCurrent<\/td>\n",
              "      <td>0.7535<\/td>\n",
              "    <\/tr>\n",
              "    <tr>\n",
              "      <th>18<\/th>\n",
              "      <td>smokerPrevious<\/td>\n",
              "      <td>0.1072<\/td>\n",
              "    <\/tr>\n",
              "    <tr>\n",
              "      <th>19<\/th>\n",
              "      <td>vascularDisease<\/td>\n",
              "      <td>0.4025<\/td>\n",
              "    <\/tr>\n",
              "  <\/tbody>\n",
              "<\/table>\n",
              "<\/div>"
            ]
          },
          "metadata":{
            
          },
          "output_type":"display_data"
        }
      ],
      "metadata":{
        
      }
    },
    {
      "cell_type":"code",
      "source":[
        "num_cols = [HEIGHT, WEIGHT]\n",
        "\n",
        "# treatment will be our label for estimating the propensity score,\n",
        "# and death is the outcome that we care about, thus is also removed\n",
        "# from the step that is estimating the propensity score\n",
        "death = new_df[NIHSS_DISCHARGE]\n",
        "treatment = new_df[TREATMENT]\n",
        "df_cleaned = new_df.drop([NIHSS_DISCHARGE, TREATMENT], axis=1)\n",
        "\n",
        "# df_cleaned.replace(np.nan, 0)\n",
        "\n",
        "column_transformer = ColumnTransformer(\n",
        "    [('numerical', StandardScaler(), num_cols)],\n",
        "    sparse_threshold=0,\n",
        "    remainder='passthrough'\n",
        ")\n",
        "data = column_transformer.fit_transform(df_cleaned)\n",
        "data.shape"
      ],
      "execution_count":0,
      "outputs":[
        {
          "data":{
            "text\/plain":[
              "(1578, 21)"
            ]
          },
          "metadata":{
            
          },
          "output_type":"display_data"
        }
      ],
      "metadata":{
        
      }
    },
    {
      "cell_type":"code",
      "source":[
        "data[np.isnan(data)] = 0\n",
        "data"
      ],
      "execution_count":0,
      "outputs":[
        {
          "data":{
            "text\/plain":[
              "array([[ 0.41665342,  0.37437856, 57.        , ...,  0.        ,  0.        ,  0.        ],\n",
              "       [-1.63975571, -0.30788358, 72.        , ...,  0.        ,  1.        ,  0.        ],\n",
              "       [ 0.2089962 , -1.5586975 , 86.        , ...,  0.        ,  0.        ,  0.        ],\n",
              "       ...,\n",
              "       [-1.06036807,  1.11349588, 73.        , ...,  0.        ,  0.        ,  0.        ],\n",
              "       [-0.23608106, -0.2510284 , 49.        , ...,  0.        ,  0.        ,  0.        ],\n",
              "       [-0.25763101,  0.        , 69.        , ...,  0.        ,  0.        ,  0.        ]])"
            ]
          },
          "metadata":{
            
          },
          "output_type":"display_data"
        }
      ],
      "metadata":{
        
      }
    },
    {
      "cell_type":"code",
      "source":[
        "logistic = LogisticRegression(solver='liblinear')\n",
        "logistic.fit(data, treatment)"
      ],
      "execution_count":0,
      "outputs":[
        {
          "data":{
            "text\/plain":[
              "LogisticRegression(solver='liblinear')"
            ]
          },
          "metadata":{
            
          },
          "output_type":"display_data"
        }
      ],
      "metadata":{
        
      }
    },
    {
      "cell_type":"code",
      "source":[
        "pscore = logistic.predict_proba(data)[:, 1]\n",
        "pscore"
      ],
      "execution_count":0,
      "outputs":[
        {
          "data":{
            "text\/plain":[
              "array([0.31061084, 0.90041247, 0.99805784, ..., 0.94727062, 0.11326868, 0.84048766])"
            ]
          },
          "metadata":{
            
          },
          "output_type":"display_data"
        }
      ],
      "metadata":{
        
      }
    },
    {
      "cell_type":"code",
      "source":[
        "roc_auc_score(treatment, pscore)"
      ],
      "execution_count":0,
      "outputs":[
        {
          "data":{
            "text\/plain":[
              "0.9951883824473934"
            ]
          },
          "metadata":{
            
          },
          "output_type":"display_data"
        }
      ],
      "metadata":{
        
      }
    },
    {
      "cell_type":"code",
      "source":[
        "mask = treatment == 1\n",
        "\n",
        "pos_pscore = pscore[mask]\n",
        "neg_pscore = pscore[~mask]\n",
        "print('treatment count:', pos_pscore.shape)\n",
        "print('control count:', neg_pscore.shape)"
      ],
      "execution_count":0,
      "outputs":[
        {
          "name":"stdout",
          "text":[
            "treatment count: (1193,)\n",
            "control count: (385,)\n"
          ],
          "output_type":"stream"
        }
      ],
      "metadata":{
        
      }
    },
    {
      "cell_type":"code",
      "source":[
        "import seaborn as sns\n",
        "\n",
        "# change default style figure and font size\n",
        "plt.rcParams['figure.figsize'] = 8, 6\n",
        "plt.rcParams['font.size'] = 12\n",
        "\n",
        "ax = sns.distplot(neg_pscore, label='control')\n",
        "ax = sns.distplot(pos_pscore, label='treatment')\n",
        "plt.xlim(0, 1)\n",
        "plt.title('Propensity Score Distribution of Control vs Treatment')\n",
        "plt.ylabel('Density')\n",
        "plt.xlabel('Scores')\n",
        "plt.legend()\n",
        "plt.tight_layout()\n",
        "plt.show()"
      ],
      "execution_count":0,
      "outputs":[
        {
          "name":"stderr",
          "text":[
            "\/opt\/anaconda3\/envs\/datalore-user\/lib\/python3.7\/site-packages\/seaborn\/distributions.py:2551: FutureWarning: `distplot` is a deprecated function and will be removed in a future version. Please adapt your code to use either `displot` (a figure-level function with similar flexibility) or `histplot` (an axes-level function for histograms).\n",
            "  warnings.warn(msg, FutureWarning)\n",
            "\/opt\/anaconda3\/envs\/datalore-user\/lib\/python3.7\/site-packages\/seaborn\/distributions.py:2551: FutureWarning: `distplot` is a deprecated function and will be removed in a future version. Please adapt your code to use either `displot` (a figure-level function with similar flexibility) or `histplot` (an axes-level function for histograms).\n",
            "  warnings.warn(msg, FutureWarning)\n"
          ],
          "output_type":"stream"
        },
        {
          "data":{
            "image\/png":"[encoded data removed]"
          },
          "metadata":{
            "image\/png":{
              "width":0,
              "height":0
            }
          },
          "output_type":"display_data"
        }
      ],
      "metadata":{
        
      }
    },
    {
      "cell_type":"code",
      "source":[
        "sim_distances, sim_indices = get_similar(pos_pscore, neg_pscore, topn=1)\n",
        "# sim_indices"
      ],
      "execution_count":0,
      "outputs":[
        
      ],
      "metadata":{
        
      }
    },
    {
      "cell_type":"code",
      "source":[
        "_, counts = np.unique(sim_indices[:, 0], return_counts=True)\n",
        "np.bincount(counts)"
      ],
      "execution_count":0,
      "outputs":[
        {
          "data":{
            "text\/plain":[
              "array([ 0, 18,  9, ...,  0,  0,  1])"
            ]
          },
          "metadata":{
            
          },
          "output_type":"display_data"
        }
      ],
      "metadata":{
        
      }
    },
    {
      "cell_type":"code",
      "source":[
        "df_cleaned[TREATMENT] = treatment\n",
        "df_cleaned[NIHSS_DISCHARGE] = death\n",
        "df_pos = df_cleaned[mask]\n",
        "df_neg = df_cleaned[~mask].iloc[sim_indices[:, 0]]\n",
        "df_matched = pd.concat([df_pos, df_neg], axis=0)\n",
        "df_matched.head()"
      ],
      "execution_count":0,
      "outputs":[
        {
          "data":{
            "text\/html":[
              "<div>\n",
              "<style scoped>\n",
              "    .dataframe tbody tr th:only-of-type {\n",
              "        vertical-align: middle;\n",
              "    }\n",
              "\n",
              "    .dataframe tbody tr th {\n",
              "        vertical-align: top;\n",
              "    }\n",
              "\n",
              "    .dataframe thead th {\n",
              "        text-align: right;\n",
              "    }\n",
              "<\/style>\n",
              "<table border=\"1\" class=\"dataframe\">\n",
              "  <thead>\n",
              "    <tr style=\"text-align: right;\">\n",
              "      <th><\/th>\n",
              "      <th>age<\/th>\n",
              "      <th>sex<\/th>\n",
              "      <th>heightvalue<\/th>\n",
              "      <th>weight<\/th>\n",
              "      <th>involvedVascularTerritorryArterior<\/th>\n",
              "      <th>involvedVascularTerritorryLeft<\/th>\n",
              "      <th>involvedVascularTerritorryPosterior<\/th>\n",
              "      <th>involvedVascularTerritorryRight<\/th>\n",
              "      <th>RiskFactorsCount<\/th>\n",
              "      <th>RiskFactorsUnknown<\/th>\n",
              "      <th>atrialFibrilation<\/th>\n",
              "      <th>congestiveHeartFailure<\/th>\n",
              "      <th>diabetes<\/th>\n",
              "      <th>hyperlipidemia<\/th>\n",
              "      <th>hypertension<\/th>\n",
              "      <th>previousStrokeEarlierThan3M<\/th>\n",
              "      <th>previousStrokeWithin3M<\/th>\n",
              "      <th>previousTIAOrAmaurosis<\/th>\n",
              "      <th>smokerCurrent<\/th>\n",
              "      <th>smokerPrevious<\/th>\n",
              "      <th>vascularDisease<\/th>\n",
              "      <th>treatment<\/th>\n",
              "      <th>NIHSS-diff-discharge<\/th>\n",
              "    <\/tr>\n",
              "  <\/thead>\n",
              "  <tbody>\n",
              "    <tr>\n",
              "      <th>2<\/th>\n",
              "      <td>72.0<\/td>\n",
              "      <td>1.0<\/td>\n",
              "      <td>154.784634<\/td>\n",
              "      <td>77.0<\/td>\n",
              "      <td>1.0<\/td>\n",
              "      <td>1.0<\/td>\n",
              "      <td>0.0<\/td>\n",
              "      <td>0.0<\/td>\n",
              "      <td>3.0<\/td>\n",
              "      <td>0.0<\/td>\n",
              "      <td>1.0<\/td>\n",
              "      <td>0.0<\/td>\n",
              "      <td>0.0<\/td>\n",
              "      <td>0.0<\/td>\n",
              "      <td>1.0<\/td>\n",
              "      <td>0.0<\/td>\n",
              "      <td>0.0<\/td>\n",
              "      <td>0.0<\/td>\n",
              "      <td>0.0<\/td>\n",
              "      <td>1.0<\/td>\n",
              "      <td>0.0<\/td>\n",
              "      <td>1<\/td>\n",
              "      <td>-6.0<\/td>\n",
              "    <\/tr>\n",
              "    <tr>\n",
              "      <th>3<\/th>\n",
              "      <td>86.0<\/td>\n",
              "      <td>0.0<\/td>\n",
              "      <td>172.536885<\/td>\n",
              "      <td>55.0<\/td>\n",
              "      <td>1.0<\/td>\n",
              "      <td>1.0<\/td>\n",
              "      <td>0.0<\/td>\n",
              "      <td>0.0<\/td>\n",
              "      <td>4.0<\/td>\n",
              "      <td>0.0<\/td>\n",
              "      <td>1.0<\/td>\n",
              "      <td>0.0<\/td>\n",
              "      <td>1.0<\/td>\n",
              "      <td>1.0<\/td>\n",
              "      <td>1.0<\/td>\n",
              "      <td>0.0<\/td>\n",
              "      <td>0.0<\/td>\n",
              "      <td>0.0<\/td>\n",
              "      <td>0.0<\/td>\n",
              "      <td>0.0<\/td>\n",
              "      <td>0.0<\/td>\n",
              "      <td>1<\/td>\n",
              "      <td>0.0<\/td>\n",
              "    <\/tr>\n",
              "    <tr>\n",
              "      <th>15<\/th>\n",
              "      <td>82.0<\/td>\n",
              "      <td>1.0<\/td>\n",
              "      <td>166.685779<\/td>\n",
              "      <td>80.0<\/td>\n",
              "      <td>0.0<\/td>\n",
              "      <td>1.0<\/td>\n",
              "      <td>1.0<\/td>\n",
              "      <td>0.0<\/td>\n",
              "      <td>4.0<\/td>\n",
              "      <td>1.0<\/td>\n",
              "      <td>1.0<\/td>\n",
              "      <td>1.0<\/td>\n",
              "      <td>1.0<\/td>\n",
              "      <td>0.0<\/td>\n",
              "      <td>1.0<\/td>\n",
              "      <td>0.0<\/td>\n",
              "      <td>0.0<\/td>\n",
              "      <td>0.0<\/td>\n",
              "      <td>0.0<\/td>\n",
              "      <td>0.0<\/td>\n",
              "      <td>NaN<\/td>\n",
              "      <td>1<\/td>\n",
              "      <td>-12.0<\/td>\n",
              "    <\/tr>\n",
              "    <tr>\n",
              "      <th>17<\/th>\n",
              "      <td>69.0<\/td>\n",
              "      <td>0.0<\/td>\n",
              "      <td>166.798749<\/td>\n",
              "      <td>NaN<\/td>\n",
              "      <td>NaN<\/td>\n",
              "      <td>NaN<\/td>\n",
              "      <td>NaN<\/td>\n",
              "      <td>NaN<\/td>\n",
              "      <td>2.0<\/td>\n",
              "      <td>1.0<\/td>\n",
              "      <td>0.0<\/td>\n",
              "      <td>0.0<\/td>\n",
              "      <td>1.0<\/td>\n",
              "      <td>0.0<\/td>\n",
              "      <td>1.0<\/td>\n",
              "      <td>0.0<\/td>\n",
              "      <td>0.0<\/td>\n",
              "      <td>0.0<\/td>\n",
              "      <td>0.0<\/td>\n",
              "      <td>0.0<\/td>\n",
              "      <td>NaN<\/td>\n",
              "      <td>1<\/td>\n",
              "      <td>0.0<\/td>\n",
              "    <\/tr>\n",
              "    <tr>\n",
              "      <th>18<\/th>\n",
              "      <td>84.0<\/td>\n",
              "      <td>1.0<\/td>\n",
              "      <td>165.473748<\/td>\n",
              "      <td>82.0<\/td>\n",
              "      <td>0.0<\/td>\n",
              "      <td>1.0<\/td>\n",
              "      <td>1.0<\/td>\n",
              "      <td>1.0<\/td>\n",
              "      <td>4.0<\/td>\n",
              "      <td>0.0<\/td>\n",
              "      <td>0.0<\/td>\n",
              "      <td>0.0<\/td>\n",
              "      <td>1.0<\/td>\n",
              "      <td>1.0<\/td>\n",
              "      <td>1.0<\/td>\n",
              "      <td>0.0<\/td>\n",
              "      <td>0.0<\/td>\n",
              "      <td>0.0<\/td>\n",
              "      <td>0.0<\/td>\n",
              "      <td>0.0<\/td>\n",
              "      <td>1.0<\/td>\n",
              "      <td>1<\/td>\n",
              "      <td>-6.0<\/td>\n",
              "    <\/tr>\n",
              "  <\/tbody>\n",
              "<\/table>\n",
              "<\/div>"
            ]
          },
          "metadata":{
            
          },
          "output_type":"display_data"
        }
      ],
      "metadata":{
        
      }
    },
    {
      "cell_type":"code",
      "source":[
        "table_one_matched = df_matched.groupby(TREATMENT).agg(agg_operations)\n",
        "table_one_smd_matched = compute_table_one_smd(table_one_matched)\n",
        "table_one_smd_matched"
      ],
      "execution_count":0,
      "outputs":[
        {
          "data":{
            "text\/html":[
              "<div>\n",
              "<style scoped>\n",
              "    .dataframe tbody tr th:only-of-type {\n",
              "        vertical-align: middle;\n",
              "    }\n",
              "\n",
              "    .dataframe tbody tr th {\n",
              "        vertical-align: top;\n",
              "    }\n",
              "\n",
              "    .dataframe thead th {\n",
              "        text-align: right;\n",
              "    }\n",
              "<\/style>\n",
              "<table border=\"1\" class=\"dataframe\">\n",
              "  <thead>\n",
              "    <tr style=\"text-align: right;\">\n",
              "      <th><\/th>\n",
              "      <th>features<\/th>\n",
              "      <th>smd<\/th>\n",
              "    <\/tr>\n",
              "  <\/thead>\n",
              "  <tbody>\n",
              "    <tr>\n",
              "      <th>0<\/th>\n",
              "      <td>sex<\/td>\n",
              "      <td>1.2118<\/td>\n",
              "    <\/tr>\n",
              "    <tr>\n",
              "      <th>1<\/th>\n",
              "      <td>heightvalue<\/td>\n",
              "      <td>0.9827<\/td>\n",
              "    <\/tr>\n",
              "    <tr>\n",
              "      <th>2<\/th>\n",
              "      <td>weight<\/td>\n",
              "      <td>0.6316<\/td>\n",
              "    <\/tr>\n",
              "    <tr>\n",
              "      <th>3<\/th>\n",
              "      <td>involvedVascularTerritorryArterior<\/td>\n",
              "      <td>1.6145<\/td>\n",
              "    <\/tr>\n",
              "    <tr>\n",
              "      <th>4<\/th>\n",
              "      <td>involvedVascularTerritorryLeft<\/td>\n",
              "      <td>1.0321<\/td>\n",
              "    <\/tr>\n",
              "    <tr>\n",
              "      <th>5<\/th>\n",
              "      <td>involvedVascularTerritorryPosterior<\/td>\n",
              "      <td>0.4017<\/td>\n",
              "    <\/tr>\n",
              "    <tr>\n",
              "      <th>6<\/th>\n",
              "      <td>involvedVascularTerritorryRight<\/td>\n",
              "      <td>0.8617<\/td>\n",
              "    <\/tr>\n",
              "    <tr>\n",
              "      <th>7<\/th>\n",
              "      <td>RiskFactorsCount<\/td>\n",
              "      <td>0.0433<\/td>\n",
              "    <\/tr>\n",
              "    <tr>\n",
              "      <th>8<\/th>\n",
              "      <td>RiskFactorsUnknown<\/td>\n",
              "      <td>0.2679<\/td>\n",
              "    <\/tr>\n",
              "    <tr>\n",
              "      <th>9<\/th>\n",
              "      <td>atrialFibrilation<\/td>\n",
              "      <td>0.9710<\/td>\n",
              "    <\/tr>\n",
              "    <tr>\n",
              "      <th>10<\/th>\n",
              "      <td>congestiveHeartFailure<\/td>\n",
              "      <td>0.5673<\/td>\n",
              "    <\/tr>\n",
              "    <tr>\n",
              "      <th>11<\/th>\n",
              "      <td>diabetes<\/td>\n",
              "      <td>1.6332<\/td>\n",
              "    <\/tr>\n",
              "    <tr>\n",
              "      <th>12<\/th>\n",
              "      <td>hyperlipidemia<\/td>\n",
              "      <td>1.2838<\/td>\n",
              "    <\/tr>\n",
              "    <tr>\n",
              "      <th>13<\/th>\n",
              "      <td>hypertension<\/td>\n",
              "      <td>0.5112<\/td>\n",
              "    <\/tr>\n",
              "    <tr>\n",
              "      <th>14<\/th>\n",
              "      <td>previousStrokeEarlierThan3M<\/td>\n",
              "      <td>0.1942<\/td>\n",
              "    <\/tr>\n",
              "    <tr>\n",
              "      <th>15<\/th>\n",
              "      <td>previousStrokeWithin3M<\/td>\n",
              "      <td>0.5128<\/td>\n",
              "    <\/tr>\n",
              "    <tr>\n",
              "      <th>16<\/th>\n",
              "      <td>previousTIAOrAmaurosis<\/td>\n",
              "      <td>0.2513<\/td>\n",
              "    <\/tr>\n",
              "    <tr>\n",
              "      <th>17<\/th>\n",
              "      <td>smokerCurrent<\/td>\n",
              "      <td>0.4873<\/td>\n",
              "    <\/tr>\n",
              "    <tr>\n",
              "      <th>18<\/th>\n",
              "      <td>smokerPrevious<\/td>\n",
              "      <td>0.5599<\/td>\n",
              "    <\/tr>\n",
              "    <tr>\n",
              "      <th>19<\/th>\n",
              "      <td>vascularDisease<\/td>\n",
              "      <td>0.7703<\/td>\n",
              "    <\/tr>\n",
              "  <\/tbody>\n",
              "<\/table>\n",
              "<\/div>"
            ]
          },
          "metadata":{
            
          },
          "output_type":"display_data"
        }
      ],
      "metadata":{
        
      }
    },
    {
      "cell_type":"code",
      "source":[
        "df_pos[NIHSS_DISCHARGE].mean()"
      ],
      "execution_count":0,
      "outputs":[
        {
          "data":{
            "text\/plain":[
              "-2.461860854987427"
            ]
          },
          "metadata":{
            
          },
          "output_type":"display_data"
        }
      ],
      "metadata":{
        
      }
    },
    {
      "cell_type":"code",
      "source":[
        "df_neg[NIHSS_DISCHARGE].mean()"
      ],
      "execution_count":0,
      "outputs":[
        {
          "data":{
            "text\/plain":[
              "-6.471919530595138"
            ]
          },
          "metadata":{
            
          },
          "output_type":"display_data"
        }
      ],
      "metadata":{
        
      }
    },
    {
      "cell_type":"code",
      "source":[
        "num_matched_pairs = df_neg.shape[0]\n",
        "print('number of matched pairs: ', num_matched_pairs)\n",
        "\n",
        "# pair t-test\n",
        "stats.ttest_rel(df_pos[NIHSS_DISCHARGE].values, df_neg[NIHSS_DISCHARGE].values)"
      ],
      "execution_count":0,
      "outputs":[
        {
          "name":"stdout",
          "text":[
            "number of matched pairs:  1193\n"
          ],
          "output_type":"stream"
        },
        {
          "data":{
            "text\/plain":[
              "Ttest_relResult(statistic=25.702264758505173, pvalue=2.810995203706411e-116)"
            ]
          },
          "metadata":{
            
          },
          "output_type":"display_data"
        }
      ],
      "metadata":{
        
      }
    }
  ],
  "metadata":{
    
  },
  "nbformat":4,
  "nbformat_minor":0
}